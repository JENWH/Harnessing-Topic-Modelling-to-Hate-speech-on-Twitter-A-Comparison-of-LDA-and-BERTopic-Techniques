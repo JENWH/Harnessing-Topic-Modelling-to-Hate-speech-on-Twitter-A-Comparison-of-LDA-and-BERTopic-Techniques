{
  "cells": [
    {
      "cell_type": "markdown",
      "metadata": {
        "id": "19KmnzYut1UJ"
      },
      "source": [
        "**Assignment Description:**\n",
        "- In this assignment, I plan to use **topic modeling** to help combat hate speech violence on the Twitter platform, now known as 'X'.\n",
        "- The dataset is sourced from Kaggle: [Hate Speech and Offensive Tweets by Davidson et al](https://www.kaggle.com/datasets/eldrich/hate-speech-offensive-tweets-by-davidson-et-al).\n",
        "- I have selected two models for comparison based on their performance on the dataset:\n",
        "  1. Latent Dirichlet Allocation (LDA)\n",
        "  2. BERTopic\n",
        "- Please refer to the technical report for detailed interpretations of the model choices, discussions, and comparisons."
      ]
    },
    {
      "cell_type": "markdown",
      "metadata": {
        "id": "WvnZXYH4wo8N"
      },
      "source": [
        "**WARNING: The data contains content that is racist, sexist, homophobic, and offensive.**\n"
      ]
    },
    {
      "cell_type": "markdown",
      "metadata": {
        "id": "URBOE83-xk4K"
      },
      "source": [
        "# **Topic Modelling using LDA on conbating Hate-speech violence on Twitter platform.**"
      ]
    },
    {
      "cell_type": "markdown",
      "metadata": {
        "id": "xay4gT2TtUcU"
      },
      "source": [
        "**Import dataset**"
      ]
    },
    {
      "cell_type": "code",
      "execution_count": null,
      "metadata": {
        "colab": {
          "base_uri": "https://localhost:8080/"
        },
        "id": "aCohNH1iC5T9",
        "outputId": "1d605120-74d7-4ae6-e273-a3a2d04adb2e"
      },
      "outputs": [
        {
          "name": "stdout",
          "output_type": "stream",
          "text": [
            "Drive already mounted at labeled_data.csv; to attempt to forcibly remount, call drive.mount(\"labeled_data.csv\", force_remount=True).\n"
          ]
        }
      ],
      "source": [
        "from google.colab import drive\n",
        "drive.mount('labeled_data.csv')\n"
      ]
    },
    {
      "cell_type": "code",
      "execution_count": null,
      "metadata": {
        "id": "VZ5PmjmBEenV"
      },
      "outputs": [],
      "source": [
        "import pandas as pd\n",
        "\n",
        "#Load the CSV file\n",
        "file_path = '/content/labeled_data.csv/MyDrive/AE2-NLP/Hate speech offensive tweets by Davidson et al/data/labeled_data.csv'\n",
        "Hate_speech_tweets = pd.read_csv(file_path)\n",
        "\n",
        "#Keep only target columns (classes information, and the textual information)\n",
        "review_columns = ['hate_speech', 'offensive_language', 'neither', 'tweet']\n",
        "new_HST = Hate_speech_tweets[review_columns]"
      ]
    },
    {
      "cell_type": "code",
      "execution_count": null,
      "metadata": {
        "colab": {
          "base_uri": "https://localhost:8080/",
          "height": 206
        },
        "id": "Mu9CAqhDF_ei",
        "outputId": "cec8d5cf-dfd1-43ad-c18e-0a49c95c9d40"
      },
      "outputs": [
        {
          "data": {
            "application/vnd.google.colaboratory.intrinsic+json": {
              "summary": "{\n  \"name\": \"new_HST\",\n  \"rows\": 24783,\n  \"fields\": [\n    {\n      \"column\": \"hate_speech\",\n      \"properties\": {\n        \"dtype\": \"number\",\n        \"std\": 0,\n        \"min\": 0,\n        \"max\": 7,\n        \"num_unique_values\": 8,\n        \"samples\": [\n          1,\n          6,\n          0\n        ],\n        \"semantic_type\": \"\",\n        \"description\": \"\"\n      }\n    },\n    {\n      \"column\": \"offensive_language\",\n      \"properties\": {\n        \"dtype\": \"number\",\n        \"std\": 1,\n        \"min\": 0,\n        \"max\": 9,\n        \"num_unique_values\": 10,\n        \"samples\": [\n          8,\n          3,\n          7\n        ],\n        \"semantic_type\": \"\",\n        \"description\": \"\"\n      }\n    },\n    {\n      \"column\": \"neither\",\n      \"properties\": {\n        \"dtype\": \"number\",\n        \"std\": 1,\n        \"min\": 0,\n        \"max\": 9,\n        \"num_unique_values\": 10,\n        \"samples\": [\n          8,\n          0,\n          4\n        ],\n        \"semantic_type\": \"\",\n        \"description\": \"\"\n      }\n    },\n    {\n      \"column\": \"tweet\",\n      \"properties\": {\n        \"dtype\": \"string\",\n        \"num_unique_values\": 24783,\n        \"samples\": [\n          \"934 8616\\ni got a missed call from yo bitch\",\n          \"RT @KINGTUNCHI_: Fucking with a bad bitch you gone need some money lil homie!\",\n          \"RT @eanahS__: @1inkkofrosess lol my credit ain't no where near good , but I know the right man for the job .. that ho nice though!\"\n        ],\n        \"semantic_type\": \"\",\n        \"description\": \"\"\n      }\n    }\n  ]\n}",
              "type": "dataframe",
              "variable_name": "new_HST"
            },
            "text/html": [
              "\n",
              "  <div id=\"df-7d64607f-fc05-4289-be5b-a70a36058803\" class=\"colab-df-container\">\n",
              "    <div>\n",
              "<style scoped>\n",
              "    .dataframe tbody tr th:only-of-type {\n",
              "        vertical-align: middle;\n",
              "    }\n",
              "\n",
              "    .dataframe tbody tr th {\n",
              "        vertical-align: top;\n",
              "    }\n",
              "\n",
              "    .dataframe thead th {\n",
              "        text-align: right;\n",
              "    }\n",
              "</style>\n",
              "<table border=\"1\" class=\"dataframe\">\n",
              "  <thead>\n",
              "    <tr style=\"text-align: right;\">\n",
              "      <th></th>\n",
              "      <th>hate_speech</th>\n",
              "      <th>offensive_language</th>\n",
              "      <th>neither</th>\n",
              "      <th>tweet</th>\n",
              "    </tr>\n",
              "  </thead>\n",
              "  <tbody>\n",
              "    <tr>\n",
              "      <th>0</th>\n",
              "      <td>0</td>\n",
              "      <td>0</td>\n",
              "      <td>3</td>\n",
              "      <td>!!! RT @mayasolovely: As a woman you shouldn't...</td>\n",
              "    </tr>\n",
              "    <tr>\n",
              "      <th>1</th>\n",
              "      <td>0</td>\n",
              "      <td>3</td>\n",
              "      <td>0</td>\n",
              "      <td>!!!!! RT @mleew17: boy dats cold...tyga dwn ba...</td>\n",
              "    </tr>\n",
              "    <tr>\n",
              "      <th>2</th>\n",
              "      <td>0</td>\n",
              "      <td>3</td>\n",
              "      <td>0</td>\n",
              "      <td>!!!!!!! RT @UrKindOfBrand Dawg!!!! RT @80sbaby...</td>\n",
              "    </tr>\n",
              "    <tr>\n",
              "      <th>3</th>\n",
              "      <td>0</td>\n",
              "      <td>2</td>\n",
              "      <td>1</td>\n",
              "      <td>!!!!!!!!! RT @C_G_Anderson: @viva_based she lo...</td>\n",
              "    </tr>\n",
              "    <tr>\n",
              "      <th>4</th>\n",
              "      <td>0</td>\n",
              "      <td>6</td>\n",
              "      <td>0</td>\n",
              "      <td>!!!!!!!!!!!!! RT @ShenikaRoberts: The shit you...</td>\n",
              "    </tr>\n",
              "  </tbody>\n",
              "</table>\n",
              "</div>\n",
              "    <div class=\"colab-df-buttons\">\n",
              "\n",
              "  <div class=\"colab-df-container\">\n",
              "    <button class=\"colab-df-convert\" onclick=\"convertToInteractive('df-7d64607f-fc05-4289-be5b-a70a36058803')\"\n",
              "            title=\"Convert this dataframe to an interactive table.\"\n",
              "            style=\"display:none;\">\n",
              "\n",
              "  <svg xmlns=\"http://www.w3.org/2000/svg\" height=\"24px\" viewBox=\"0 -960 960 960\">\n",
              "    <path d=\"M120-120v-720h720v720H120Zm60-500h600v-160H180v160Zm220 220h160v-160H400v160Zm0 220h160v-160H400v160ZM180-400h160v-160H180v160Zm440 0h160v-160H620v160ZM180-180h160v-160H180v160Zm440 0h160v-160H620v160Z\"/>\n",
              "  </svg>\n",
              "    </button>\n",
              "\n",
              "  <style>\n",
              "    .colab-df-container {\n",
              "      display:flex;\n",
              "      gap: 12px;\n",
              "    }\n",
              "\n",
              "    .colab-df-convert {\n",
              "      background-color: #E8F0FE;\n",
              "      border: none;\n",
              "      border-radius: 50%;\n",
              "      cursor: pointer;\n",
              "      display: none;\n",
              "      fill: #1967D2;\n",
              "      height: 32px;\n",
              "      padding: 0 0 0 0;\n",
              "      width: 32px;\n",
              "    }\n",
              "\n",
              "    .colab-df-convert:hover {\n",
              "      background-color: #E2EBFA;\n",
              "      box-shadow: 0px 1px 2px rgba(60, 64, 67, 0.3), 0px 1px 3px 1px rgba(60, 64, 67, 0.15);\n",
              "      fill: #174EA6;\n",
              "    }\n",
              "\n",
              "    .colab-df-buttons div {\n",
              "      margin-bottom: 4px;\n",
              "    }\n",
              "\n",
              "    [theme=dark] .colab-df-convert {\n",
              "      background-color: #3B4455;\n",
              "      fill: #D2E3FC;\n",
              "    }\n",
              "\n",
              "    [theme=dark] .colab-df-convert:hover {\n",
              "      background-color: #434B5C;\n",
              "      box-shadow: 0px 1px 3px 1px rgba(0, 0, 0, 0.15);\n",
              "      filter: drop-shadow(0px 1px 2px rgba(0, 0, 0, 0.3));\n",
              "      fill: #FFFFFF;\n",
              "    }\n",
              "  </style>\n",
              "\n",
              "    <script>\n",
              "      const buttonEl =\n",
              "        document.querySelector('#df-7d64607f-fc05-4289-be5b-a70a36058803 button.colab-df-convert');\n",
              "      buttonEl.style.display =\n",
              "        google.colab.kernel.accessAllowed ? 'block' : 'none';\n",
              "\n",
              "      async function convertToInteractive(key) {\n",
              "        const element = document.querySelector('#df-7d64607f-fc05-4289-be5b-a70a36058803');\n",
              "        const dataTable =\n",
              "          await google.colab.kernel.invokeFunction('convertToInteractive',\n",
              "                                                    [key], {});\n",
              "        if (!dataTable) return;\n",
              "\n",
              "        const docLinkHtml = 'Like what you see? Visit the ' +\n",
              "          '<a target=\"_blank\" href=https://colab.research.google.com/notebooks/data_table.ipynb>data table notebook</a>'\n",
              "          + ' to learn more about interactive tables.';\n",
              "        element.innerHTML = '';\n",
              "        dataTable['output_type'] = 'display_data';\n",
              "        await google.colab.output.renderOutput(dataTable, element);\n",
              "        const docLink = document.createElement('div');\n",
              "        docLink.innerHTML = docLinkHtml;\n",
              "        element.appendChild(docLink);\n",
              "      }\n",
              "    </script>\n",
              "  </div>\n",
              "\n",
              "\n",
              "<div id=\"df-a2d5d851-0b7f-4b28-b660-06daf86b8cf8\">\n",
              "  <button class=\"colab-df-quickchart\" onclick=\"quickchart('df-a2d5d851-0b7f-4b28-b660-06daf86b8cf8')\"\n",
              "            title=\"Suggest charts\"\n",
              "            style=\"display:none;\">\n",
              "\n",
              "<svg xmlns=\"http://www.w3.org/2000/svg\" height=\"24px\"viewBox=\"0 0 24 24\"\n",
              "     width=\"24px\">\n",
              "    <g>\n",
              "        <path d=\"M19 3H5c-1.1 0-2 .9-2 2v14c0 1.1.9 2 2 2h14c1.1 0 2-.9 2-2V5c0-1.1-.9-2-2-2zM9 17H7v-7h2v7zm4 0h-2V7h2v10zm4 0h-2v-4h2v4z\"/>\n",
              "    </g>\n",
              "</svg>\n",
              "  </button>\n",
              "\n",
              "<style>\n",
              "  .colab-df-quickchart {\n",
              "      --bg-color: #E8F0FE;\n",
              "      --fill-color: #1967D2;\n",
              "      --hover-bg-color: #E2EBFA;\n",
              "      --hover-fill-color: #174EA6;\n",
              "      --disabled-fill-color: #AAA;\n",
              "      --disabled-bg-color: #DDD;\n",
              "  }\n",
              "\n",
              "  [theme=dark] .colab-df-quickchart {\n",
              "      --bg-color: #3B4455;\n",
              "      --fill-color: #D2E3FC;\n",
              "      --hover-bg-color: #434B5C;\n",
              "      --hover-fill-color: #FFFFFF;\n",
              "      --disabled-bg-color: #3B4455;\n",
              "      --disabled-fill-color: #666;\n",
              "  }\n",
              "\n",
              "  .colab-df-quickchart {\n",
              "    background-color: var(--bg-color);\n",
              "    border: none;\n",
              "    border-radius: 50%;\n",
              "    cursor: pointer;\n",
              "    display: none;\n",
              "    fill: var(--fill-color);\n",
              "    height: 32px;\n",
              "    padding: 0;\n",
              "    width: 32px;\n",
              "  }\n",
              "\n",
              "  .colab-df-quickchart:hover {\n",
              "    background-color: var(--hover-bg-color);\n",
              "    box-shadow: 0 1px 2px rgba(60, 64, 67, 0.3), 0 1px 3px 1px rgba(60, 64, 67, 0.15);\n",
              "    fill: var(--button-hover-fill-color);\n",
              "  }\n",
              "\n",
              "  .colab-df-quickchart-complete:disabled,\n",
              "  .colab-df-quickchart-complete:disabled:hover {\n",
              "    background-color: var(--disabled-bg-color);\n",
              "    fill: var(--disabled-fill-color);\n",
              "    box-shadow: none;\n",
              "  }\n",
              "\n",
              "  .colab-df-spinner {\n",
              "    border: 2px solid var(--fill-color);\n",
              "    border-color: transparent;\n",
              "    border-bottom-color: var(--fill-color);\n",
              "    animation:\n",
              "      spin 1s steps(1) infinite;\n",
              "  }\n",
              "\n",
              "  @keyframes spin {\n",
              "    0% {\n",
              "      border-color: transparent;\n",
              "      border-bottom-color: var(--fill-color);\n",
              "      border-left-color: var(--fill-color);\n",
              "    }\n",
              "    20% {\n",
              "      border-color: transparent;\n",
              "      border-left-color: var(--fill-color);\n",
              "      border-top-color: var(--fill-color);\n",
              "    }\n",
              "    30% {\n",
              "      border-color: transparent;\n",
              "      border-left-color: var(--fill-color);\n",
              "      border-top-color: var(--fill-color);\n",
              "      border-right-color: var(--fill-color);\n",
              "    }\n",
              "    40% {\n",
              "      border-color: transparent;\n",
              "      border-right-color: var(--fill-color);\n",
              "      border-top-color: var(--fill-color);\n",
              "    }\n",
              "    60% {\n",
              "      border-color: transparent;\n",
              "      border-right-color: var(--fill-color);\n",
              "    }\n",
              "    80% {\n",
              "      border-color: transparent;\n",
              "      border-right-color: var(--fill-color);\n",
              "      border-bottom-color: var(--fill-color);\n",
              "    }\n",
              "    90% {\n",
              "      border-color: transparent;\n",
              "      border-bottom-color: var(--fill-color);\n",
              "    }\n",
              "  }\n",
              "</style>\n",
              "\n",
              "  <script>\n",
              "    async function quickchart(key) {\n",
              "      const quickchartButtonEl =\n",
              "        document.querySelector('#' + key + ' button');\n",
              "      quickchartButtonEl.disabled = true;  // To prevent multiple clicks.\n",
              "      quickchartButtonEl.classList.add('colab-df-spinner');\n",
              "      try {\n",
              "        const charts = await google.colab.kernel.invokeFunction(\n",
              "            'suggestCharts', [key], {});\n",
              "      } catch (error) {\n",
              "        console.error('Error during call to suggestCharts:', error);\n",
              "      }\n",
              "      quickchartButtonEl.classList.remove('colab-df-spinner');\n",
              "      quickchartButtonEl.classList.add('colab-df-quickchart-complete');\n",
              "    }\n",
              "    (() => {\n",
              "      let quickchartButtonEl =\n",
              "        document.querySelector('#df-a2d5d851-0b7f-4b28-b660-06daf86b8cf8 button');\n",
              "      quickchartButtonEl.style.display =\n",
              "        google.colab.kernel.accessAllowed ? 'block' : 'none';\n",
              "    })();\n",
              "  </script>\n",
              "</div>\n",
              "    </div>\n",
              "  </div>\n"
            ],
            "text/plain": [
              "   hate_speech  offensive_language  neither  \\\n",
              "0            0                   0        3   \n",
              "1            0                   3        0   \n",
              "2            0                   3        0   \n",
              "3            0                   2        1   \n",
              "4            0                   6        0   \n",
              "\n",
              "                                               tweet  \n",
              "0  !!! RT @mayasolovely: As a woman you shouldn't...  \n",
              "1  !!!!! RT @mleew17: boy dats cold...tyga dwn ba...  \n",
              "2  !!!!!!! RT @UrKindOfBrand Dawg!!!! RT @80sbaby...  \n",
              "3  !!!!!!!!! RT @C_G_Anderson: @viva_based she lo...  \n",
              "4  !!!!!!!!!!!!! RT @ShenikaRoberts: The shit you...  "
            ]
          },
          "execution_count": 10,
          "metadata": {},
          "output_type": "execute_result"
        }
      ],
      "source": [
        "#load the dataset\n",
        "new_HST.head()"
      ]
    },
    {
      "cell_type": "markdown",
      "metadata": {
        "id": "vfKzkFgNGInQ"
      },
      "source": [
        "## **Create a Function for Text Normalization**\n",
        "### - The function will perform simple cleaning tasks for Exploratory Data Analysis.\n",
        "- Text Normalization Tasks:\n",
        "  1. Check for missing values using `.isna()`.\n",
        "  2. Convert text to lowercase: **`lower_string = string.lower()`**\n",
        "  3. Remove numbers using a regex pattern: **`pattern = r'[0-9]'`** followed by **`new_string = re.sub(pattern, '', lower_string)`**\n",
        "  4. Remove punctuation and special characters: **`char.isalnum()`** checks if the character is alphanumeric; non-alphanumeric characters will be removed."
      ]
    },
    {
      "cell_type": "code",
      "execution_count": null,
      "metadata": {
        "colab": {
          "base_uri": "https://localhost:8080/"
        },
        "id": "xz4ujDfhJ9K9",
        "outputId": "fac6130b-70a5-4666-9425-d95f45b4b4b3"
      },
      "outputs": [
        {
          "name": "stderr",
          "output_type": "stream",
          "text": [
            "[nltk_data] Downloading package punkt to /root/nltk_data...\n",
            "[nltk_data]   Package punkt is already up-to-date!\n",
            "[nltk_data] Downloading package wordnet to /root/nltk_data...\n",
            "[nltk_data]   Package wordnet is already up-to-date!\n"
          ]
        }
      ],
      "source": [
        "import string\n",
        "import re\n",
        "import nltk\n",
        "from nltk.tokenize import word_tokenize\n",
        "from nltk.stem import WordNetLemmatizer\n",
        "import spacy\n",
        "from nltk.stem import PorterStemmer\n",
        "\n",
        "# Load spaCy\n",
        "nlp = spacy.load('en_core_web_sm')\n",
        "\n",
        "# Download NLTK resources\n",
        "nltk.download(\"punkt\")\n",
        "nltk.download(\"wordnet\")\n",
        "\n",
        "def simple_normalised_text(input_text):\n",
        "    #Check for missing value\n",
        "    if pd.isna(input_text):\n",
        "        return \"\"\n",
        "\n",
        "    #Lowercase\n",
        "    lower_string = input_text.lower()\n",
        "\n",
        "    #Remove numbers\n",
        "    pattern = r'[0-9]'\n",
        "    no_numbers_string = re.sub(pattern, '', lower_string)\n",
        "\n",
        "    #Remove special characters and punctuation\n",
        "    no_special_chars = ''.join(char for char in no_numbers_string if char.isalnum() or char in string.whitespace)\n",
        "\n",
        "    return no_special_chars\n"
      ]
    },
    {
      "cell_type": "markdown",
      "metadata": {
        "id": "4xuBmZxlGTho"
      },
      "source": [
        "## Apply Function: **simple_normalised_text** on Dataset for EDA\n",
        "- Create a copy of the original dataframe (in case something goes wrong): **`.copy()`**\n",
        "- Name the new dataframe: `new_HST`\n",
        "- Apply the `simple_normalised_text` function to the `new_HST` on the specific column `[tweet]` (which contains textual data).\n",
        "- Print the output to check."
      ]
    },
    {
      "cell_type": "code",
      "execution_count": null,
      "metadata": {
        "colab": {
          "base_uri": "https://localhost:8080/"
        },
        "id": "Kxf3GONnKRad",
        "outputId": "6b373269-f34d-41ae-ac42-1f9bbbbb48b5"
      },
      "outputs": [
        {
          "name": "stdout",
          "output_type": "stream",
          "text": [
            "   hate_speech  offensive_language  neither  \\\n",
            "0            0                   0        3   \n",
            "1            0                   3        0   \n",
            "2            0                   3        0   \n",
            "3            0                   2        1   \n",
            "4            0                   6        0   \n",
            "\n",
            "                                               tweet  \\\n",
            "0  !!! RT @mayasolovely: As a woman you shouldn't...   \n",
            "1  !!!!! RT @mleew17: boy dats cold...tyga dwn ba...   \n",
            "2  !!!!!!! RT @UrKindOfBrand Dawg!!!! RT @80sbaby...   \n",
            "3  !!!!!!!!! RT @C_G_Anderson: @viva_based she lo...   \n",
            "4  !!!!!!!!!!!!! RT @ShenikaRoberts: The shit you...   \n",
            "\n",
            "                                        simple_tweet  \n",
            "0   rt mayasolovely as a woman you shouldnt compl...  \n",
            "1   rt mleew boy dats coldtyga dwn bad for cuffin...  \n",
            "2   rt urkindofbrand dawg rt sbabylife you ever f...  \n",
            "3     rt cganderson vivabased she look like a tranny  \n",
            "4   rt shenikaroberts the shit you hear about me ...  \n"
          ]
        }
      ],
      "source": [
        "import pandas as pd\n",
        "\n",
        "#Create a copy of the new_HST\n",
        "simple_HST = new_HST.copy()\n",
        "\n",
        "#Apply  function to the 'tweet' column\n",
        "simple_HST['simple_tweet'] = simple_HST['tweet'].apply(simple_normalised_text)\n",
        "\n",
        "# Display the first few rows of the DataFrame\n",
        "print(simple_HST.head())\n"
      ]
    },
    {
      "cell_type": "markdown",
      "metadata": {
        "id": "vf8BUA3xK7zd"
      },
      "source": [
        "### Exploratory Analysis: [1]\n",
        "- To generate a WordCloud using the WordCloud package, it is crucial to have this visualization to understand our dataset.\n",
        "- The objective of using a WordCloud in this particular task is to gain a broader perspective and understanding of the wordings in this dataset. I will calculate the unique words in the dataset and decide on the range for `max_words` to try and capture a broader frequency range of words.\n",
        "- The purpose of the WordCloud is to provide an initial understanding of our dataset, especially to help later in manually assessing our LDA Model.\n",
        "- With 36,455 unique words, considering readability, we have set the `max_words` at 500.\n",
        "\n",
        "### **WARNING: The data contains content that is racist, sexist, homophobic, and offensive.**"
      ]
    },
    {
      "cell_type": "code",
      "execution_count": null,
      "metadata": {
        "colab": {
          "base_uri": "https://localhost:8080/"
        },
        "id": "9pHKaWhk3Q2q",
        "outputId": "e30f8dc2-2298-49c4-c34e-d5f5c4009cee"
      },
      "outputs": [
        {
          "name": "stdout",
          "output_type": "stream",
          "text": [
            "Total number of unique words: 36455\n"
          ]
        }
      ],
      "source": [
        "from tensorflow.keras.preprocessing.text import Tokenizer\n",
        "\n",
        "#calculate the column processed_text\n",
        "texts = simple_HST['simple_tweet'].values\n",
        "\n",
        "tokenizer = Tokenizer()\n",
        "tokenizer.fit_on_texts(texts)\n",
        "\n",
        "# total number of unique words\n",
        "unique_words = len(tokenizer.word_index)\n",
        "\n",
        "print(f\"Total number of unique words: {unique_words}\")\n"
      ]
    },
    {
      "cell_type": "code",
      "execution_count": null,
      "metadata": {
        "colab": {
          "base_uri": "https://localhost:8080/",
          "height": 273
        },
        "id": "qgwA2fYGJeHP",
        "outputId": "b7405ad7-75a9-4249-95cb-22c88ccded68"
      },
      "outputs": [
        {
          "name": "stderr",
          "output_type": "stream",
          "text": [
            "/usr/local/lib/python3.10/dist-packages/ipykernel/ipkernel.py:283: DeprecationWarning: `should_run_async` will not call `transform_cell` automatically in the future. Please pass the result to `transformed_cell` argument and any exception that happen during thetransform in `preprocessing_exc_tuple` in IPython 7.17 and above.\n",
            "  and should_run_async(code)\n"
          ]
        },
        {
          "data": {
            "image/png": "[encoded data removed]",
            "text/plain": [
              "<PIL.Image.Image image mode=RGB size=400x200>"
            ]
          },
          "execution_count": 32,
          "metadata": {},
          "output_type": "execute_result"
        }
      ],
      "source": [
        "#Import the wordcloud module\n",
        "from wordcloud import WordCloud\n",
        "\n",
        "#Join the different processed titles together.\n",
        "long_string = ','.join(list(simple_HST['simple_tweet'].values))\n",
        "\n",
        "#Create a WordCloud object\n",
        "wordcloud = WordCloud(background_color=\"white\", max_words=500, contour_width=3, contour_color='steelblue')\n",
        "\n",
        "#Generate a word cloud\n",
        "wordcloud.generate(long_string)\n",
        "\n",
        "#Visualize the word cloud\n",
        "wordcloud.to_image()"
      ]
    },
    {
      "cell_type": "markdown",
      "metadata": {
        "id": "ljZOOO-SHFw8"
      },
      "source": [
        "## Theoretical Overview of LDA:\n",
        "- LDA (Latent Dirichlet Allocation) is a probabilistic model that assumes each topic is a mixture over an underlying set of words, and each document is a mixture of a set of topic probabilities.\n",
        "- It makes two assumptions:\n",
        "  1. Documents are a mixture of topics.\n",
        "  2. Topics are a mixture of tokens (or words).\n",
        "\n",
        "- The steps to implement LDA are as follows:\n",
        "  1. Loading data\n",
        "  2. Data cleaning\n",
        "  3. Exploratory analysis\n",
        "  4. **Preparing data for LDA analysis**\n",
        "  5. LDA model training\n",
        "  6. Analyzing LDA model results"
      ]
    },
    {
      "cell_type": "markdown",
      "metadata": {
        "id": "aRWo4qwmLVws"
      },
      "source": [
        "## Prepare Text for LDA Analysis [2]\n",
        "- When applied to text data, LDA decomposes the corpus' document-word matrix (larger matrices) into two smaller matrices: the Document-Topic Matrix and the Topic-Word Matrix.\n",
        "- In a way, LDA reduces the dimensionality of the dataset.\n",
        "- Therefore, we apply the `normalised_text` function to prepare the textual data for further LDA analysis."
      ]
    },
    {
      "cell_type": "code",
      "execution_count": null,
      "metadata": {
        "colab": {
          "base_uri": "https://localhost:8080/"
        },
        "id": "JOD6BFv8NPCr",
        "outputId": "f750e86d-016a-4cd7-b45d-7600542a4c73"
      },
      "outputs": [
        {
          "name": "stderr",
          "output_type": "stream",
          "text": [
            "/usr/local/lib/python3.10/dist-packages/ipykernel/ipkernel.py:283: DeprecationWarning: `should_run_async` will not call `transform_cell` automatically in the future. Please pass the result to `transformed_cell` argument and any exception that happen during thetransform in `preprocessing_exc_tuple` in IPython 7.17 and above.\n",
            "  and should_run_async(code)\n",
            "[nltk_data] Downloading package punkt to /root/nltk_data...\n",
            "[nltk_data]   Package punkt is already up-to-date!\n",
            "[nltk_data] Downloading package wordnet to /root/nltk_data...\n",
            "[nltk_data]   Package wordnet is already up-to-date!\n",
            "[nltk_data] Downloading package stopwords to /root/nltk_data...\n",
            "[nltk_data]   Package stopwords is already up-to-date!\n"
          ]
        }
      ],
      "source": [
        "import string\n",
        "import re\n",
        "import nltk\n",
        "from nltk.tokenize import word_tokenize\n",
        "from nltk.stem import WordNetLemmatizer\n",
        "import spacy\n",
        "from nltk.stem import PorterStemmer\n",
        "import pandas as pd\n",
        "from nltk.corpus import stopwords\n",
        "\n",
        "# Load spaCy\n",
        "nlp = spacy.load('en_core_web_sm')\n",
        "\n",
        "# Download NLTK resources\n",
        "nltk.download(\"punkt\")\n",
        "nltk.download(\"wordnet\")\n",
        "nltk.download('stopwords')\n",
        "\n",
        "def normalised_text(input_text):\n",
        "    # Check for missing value\n",
        "    if pd.isna(input_text):\n",
        "        return []\n",
        "\n",
        "    #Lowercase\n",
        "    lower_string = input_text.lower()\n",
        "\n",
        "    #Remove Twitter handles and URLs\n",
        "    lower_string = re.sub(r'@\\w+:', '', lower_string)  # Removes Twitter handles like @mayasolovely:\n",
        "    lower_string = re.sub(r'http[s]?://\\S+', '', lower_string)  # Removes URLs\n",
        "\n",
        "    #Remove numbers\n",
        "    no_numbers_string = re.sub(r'[0-9]', '', lower_string)\n",
        "\n",
        "    #Tokenization\n",
        "    tokens = word_tokenize(no_numbers_string)\n",
        "\n",
        "    #Remove special characters and punctuation from tokens\n",
        "    tokens = [token for token in tokens if token.isalnum()]\n",
        "\n",
        "    #Load English stopwords\n",
        "    stop_words = set(stopwords.words('english'))\n",
        "\n",
        "    #Remove stopwords\n",
        "    tokens = [token for token in tokens if token not in stop_words]\n",
        "\n",
        "    #Apply Lemmatization\n",
        "    lemmatizer = WordNetLemmatizer()\n",
        "    tokens = [lemmatizer.lemmatize(token) for token in tokens]\n",
        "\n",
        "    return tokens\n"
      ]
    },
    {
      "cell_type": "markdown",
      "metadata": {
        "id": "48jLTaSRAg3B"
      },
      "source": [
        "### Apply the `normalised_text` Function on the Textual Data Column (Tweet)\n",
        "- Name the new column: `cleaned_HST`"
      ]
    },
    {
      "cell_type": "code",
      "execution_count": null,
      "metadata": {
        "colab": {
          "base_uri": "https://localhost:8080/"
        },
        "id": "mkzw45-VNWf1",
        "outputId": "f8c8e823-7dbe-4165-fa7a-634538676269"
      },
      "outputs": [
        {
          "name": "stderr",
          "output_type": "stream",
          "text": [
            "/usr/local/lib/python3.10/dist-packages/ipykernel/ipkernel.py:283: DeprecationWarning: `should_run_async` will not call `transform_cell` automatically in the future. Please pass the result to `transformed_cell` argument and any exception that happen during thetransform in `preprocessing_exc_tuple` in IPython 7.17 and above.\n",
            "  and should_run_async(code)\n"
          ]
        },
        {
          "name": "stdout",
          "output_type": "stream",
          "text": [
            "   hate_speech  offensive_language  neither  \\\n",
            "0            0                   0        3   \n",
            "1            0                   3        0   \n",
            "2            0                   3        0   \n",
            "3            0                   2        1   \n",
            "4            0                   6        0   \n",
            "\n",
            "                                               tweet  \\\n",
            "0  !!! RT @mayasolovely: As a woman you shouldn't...   \n",
            "1  !!!!! RT @mleew17: boy dats cold...tyga dwn ba...   \n",
            "2  !!!!!!! RT @UrKindOfBrand Dawg!!!! RT @80sbaby...   \n",
            "3  !!!!!!!!! RT @C_G_Anderson: @viva_based she lo...   \n",
            "4  !!!!!!!!!!!!! RT @ShenikaRoberts: The shit you...   \n",
            "\n",
            "                                         cleaned_HST  \n",
            "0  [rt, woman, complain, cleaning, house, amp, ma...  \n",
            "1  [rt, boy, dat, cold, tyga, dwn, bad, cuffin, d...  \n",
            "2  [rt, urkindofbrand, dawg, rt, ever, fuck, bitc...  \n",
            "3                           [rt, look, like, tranny]  \n",
            "4  [rt, shit, hear, might, true, might, faker, bi...  \n"
          ]
        }
      ],
      "source": [
        "import pandas as pd\n",
        "\n",
        "# Assuming 'new_cr' is your DataFrame\n",
        "# Assuming 'normalised_text' is your function to normalize text\n",
        "\n",
        "# Create a copy of the original DataFrame\n",
        "cleaned_HST = new_HST.copy()\n",
        "\n",
        "# Apply the normalised_text function to the 'reviews.text' column\n",
        "cleaned_HST['cleaned_HST'] = cleaned_HST['tweet'].apply(normalised_text)\n",
        "\n",
        "# Display the first few rows of the DataFrame\n",
        "print(cleaned_HST.head())\n"
      ]
    },
    {
      "cell_type": "markdown",
      "metadata": {
        "id": "Rd_4Cf6cA809"
      },
      "source": [
        "## **Prepare a Collection of Preprocessed Text Data for Topic Modeling**\n",
        "- **`.tolist()`**: Converts the DataFrame column into a list where each element is a document represented as a list of tokens.\n",
        "-  **Code from the referenced [3] GitHub repository: Introduction to Topic Modeling.ipynb**"
      ]
    },
    {
      "cell_type": "code",
      "execution_count": null,
      "metadata": {
        "colab": {
          "base_uri": "https://localhost:8080/"
        },
        "id": "As_T2GLMOMrn",
        "outputId": "e2d196e8-3d87-4fa3-80a6-01bd512ec4f8"
      },
      "outputs": [
        {
          "name": "stderr",
          "output_type": "stream",
          "text": [
            "/usr/local/lib/python3.10/dist-packages/ipykernel/ipkernel.py:283: DeprecationWarning: `should_run_async` will not call `transform_cell` automatically in the future. Please pass the result to `transformed_cell` argument and any exception that happen during thetransform in `preprocessing_exc_tuple` in IPython 7.17 and above.\n",
            "  and should_run_async(code)\n"
          ]
        },
        {
          "name": "stdout",
          "output_type": "stream",
          "text": [
            "[('always', 1), ('amp', 1), ('cleaning', 1), ('complain', 1), ('house', 1), ('man', 1), ('rt', 1), ('take', 1), ('trash', 1), ('woman', 1)]\n"
          ]
        }
      ],
      "source": [
        "#use gensim.corpora module\n",
        "import gensim.corpora as corpora\n",
        "\n",
        "#extract preprocessed documents from df\n",
        "tweets = cleaned_HST['cleaned_HST'].tolist()\n",
        "\n",
        "#Create Dictionary\n",
        "HST_token = corpora.Dictionary(tweets)\n",
        "\n",
        "#Create Corpus\n",
        "texts = tweets\n",
        "\n",
        "#Term Document Frequency\n",
        "HST_corpus = [HST_token.doc2bow(text) for text in texts]\n",
        "\n",
        "#View the tweets' word frequency in a readable format\n",
        "view_HST = HST_corpus[0]\n",
        "HST_words = [(HST_token[word_id], count) for word_id, count in view_HST]\n",
        "print(HST_words[:30])\n",
        "\n"
      ]
    },
    {
      "cell_type": "markdown",
      "metadata": {
        "id": "lAQdVvJeLkCI"
      },
      "source": [
        "## LDA Model Training [3]\n",
        "- After preparing the text,\n",
        "- we train the LDA model.\n",
        "- Our aim is to detect 2 topics as the dataset was pre-labeled into 'hate_speech', 'offensive_language', and 'neither'.\n",
        "- We will specifically aim to find topics labeled as 'hate_speech' and 'offensive_language'.\n",
        "- We will use LDA."
      ]
    },
    {
      "cell_type": "code",
      "execution_count": null,
      "metadata": {
        "colab": {
          "base_uri": "https://localhost:8080/"
        },
        "id": "QRGoAfGQLiYq",
        "outputId": "b942f1d4-f941-4936-bb15-ca8618b9527a"
      },
      "outputs": [
        {
          "name": "stderr",
          "output_type": "stream",
          "text": [
            "/usr/local/lib/python3.10/dist-packages/ipykernel/ipkernel.py:283: DeprecationWarning: `should_run_async` will not call `transform_cell` automatically in the future. Please pass the result to `transformed_cell` argument and any exception that happen during thetransform in `preprocessing_exc_tuple` in IPython 7.17 and above.\n",
            "  and should_run_async(code)\n",
            "/usr/lib/python3.10/multiprocessing/popen_fork.py:66: RuntimeWarning: os.fork() was called. os.fork() is incompatible with multithreaded code, and JAX is multithreaded, so this will likely lead to a deadlock.\n",
            "  self.pid = os.fork()\n"
          ]
        },
        {
          "name": "stdout",
          "output_type": "stream",
          "text": [
            "[(0,\n",
            "  '0.070*\"bitch\" + 0.067*\"rt\" + 0.033*\"hoe\" + 0.012*\"like\" + 0.012*\"pussy\" + '\n",
            "  '0.012*\"nigga\" + 0.012*\"u\" + 0.011*\"got\" + 0.011*\"as\" + 0.008*\"get\"'),\n",
            " (1,\n",
            "  '0.058*\"bitch\" + 0.011*\"trash\" + 0.009*\"pussy\" + 0.008*\"nigga\" + '\n",
            "  '0.008*\"fuck\" + 0.006*\"rt\" + 0.006*\"like\" + 0.005*\"said\" + 0.005*\"get\" + '\n",
            "  '0.005*\"ho\"'),\n",
            " (2,\n",
            "  '0.022*\"like\" + 0.022*\"bitch\" + 0.018*\"rt\" + 0.015*\"hoe\" + 0.011*\"nigga\" + '\n",
            "  '0.011*\"trash\" + 0.009*\"shit\" + 0.007*\"look\" + 0.007*\"get\" + 0.007*\"pussy\"')]\n"
          ]
        }
      ],
      "source": [
        "from pprint import pprint\n",
        "import gensim\n",
        "\n",
        "# number of topics\n",
        "num_topics = 3\n",
        "\n",
        "# Build LDA model\n",
        "lda_model = gensim.models.LdaMulticore(corpus=HST_corpus,\n",
        "                                       id2word=HST_token,\n",
        "                                       num_topics=num_topics)\n",
        "\n",
        "# Print the Keyword in the 10 topics\n",
        "pprint(lda_model.print_topics())\n",
        "doc_lda = lda_model[HST_corpus]"
      ]
    },
    {
      "cell_type": "markdown",
      "metadata": {
        "id": "CcwdbzMGLtGk"
      },
      "source": [
        "## **Analyzing our LDA model**\n",
        "- Now that we have a trained model, we will use **pyLDAvis** to visulase the topics.\n",
        "- This visualisation tool as major benefits, (1) aiding understanding and to interpreting topics. (2) understanding the relations between the topics;\n",
        "- I adopt the coding from reference [3]:(1) allow mannual selection topics and view most frequencd and relevant terms. (2) understand how does the topics relate to each other."
      ]
    },
    {
      "cell_type": "code",
      "execution_count": null,
      "metadata": {
        "colab": {
          "base_uri": "https://localhost:8080/"
        },
        "id": "gjrpGS3qP-Fh",
        "outputId": "d330ac10-faf5-4ec8-b997-2ce6a440a6ed"
      },
      "outputs": [
        {
          "name": "stderr",
          "output_type": "stream",
          "text": [
            "/usr/local/lib/python3.10/dist-packages/ipykernel/ipkernel.py:283: DeprecationWarning: `should_run_async` will not call `transform_cell` automatically in the future. Please pass the result to `transformed_cell` argument and any exception that happen during thetransform in `preprocessing_exc_tuple` in IPython 7.17 and above.\n",
            "  and should_run_async(code)\n"
          ]
        },
        {
          "name": "stdout",
          "output_type": "stream",
          "text": [
            "Requirement already satisfied: pyldavis in /usr/local/lib/python3.10/dist-packages (3.4.1)\n",
            "Requirement already satisfied: numpy>=1.24.2 in /usr/local/lib/python3.10/dist-packages (from pyldavis) (1.25.2)\n",
            "Requirement already satisfied: scipy in /usr/local/lib/python3.10/dist-packages (from pyldavis) (1.11.4)\n",
            "Requirement already satisfied: pandas>=2.0.0 in /usr/local/lib/python3.10/dist-packages (from pyldavis) (2.0.3)\n",
            "Requirement already satisfied: joblib>=1.2.0 in /usr/local/lib/python3.10/dist-packages (from pyldavis) (1.4.0)\n",
            "Requirement already satisfied: jinja2 in /usr/local/lib/python3.10/dist-packages (from pyldavis) (3.1.3)\n",
            "Requirement already satisfied: numexpr in /usr/local/lib/python3.10/dist-packages (from pyldavis) (2.10.0)\n",
            "Requirement already satisfied: funcy in /usr/local/lib/python3.10/dist-packages (from pyldavis) (2.0)\n",
            "Requirement already satisfied: scikit-learn>=1.0.0 in /usr/local/lib/python3.10/dist-packages (from pyldavis) (1.2.2)\n",
            "Requirement already satisfied: gensim in /usr/local/lib/python3.10/dist-packages (from pyldavis) (4.3.2)\n",
            "Requirement already satisfied: setuptools in /usr/local/lib/python3.10/dist-packages (from pyldavis) (67.7.2)\n",
            "Requirement already satisfied: python-dateutil>=2.8.2 in /usr/local/lib/python3.10/dist-packages (from pandas>=2.0.0->pyldavis) (2.8.2)\n",
            "Requirement already satisfied: pytz>=2020.1 in /usr/local/lib/python3.10/dist-packages (from pandas>=2.0.0->pyldavis) (2023.4)\n",
            "Requirement already satisfied: tzdata>=2022.1 in /usr/local/lib/python3.10/dist-packages (from pandas>=2.0.0->pyldavis) (2024.1)\n",
            "Requirement already satisfied: threadpoolctl>=2.0.0 in /usr/local/lib/python3.10/dist-packages (from scikit-learn>=1.0.0->pyldavis) (3.4.0)\n",
            "Requirement already satisfied: smart-open>=1.8.1 in /usr/local/lib/python3.10/dist-packages (from gensim->pyldavis) (6.4.0)\n",
            "Requirement already satisfied: MarkupSafe>=2.0 in /usr/local/lib/python3.10/dist-packages (from jinja2->pyldavis) (2.1.5)\n",
            "Requirement already satisfied: six>=1.5 in /usr/local/lib/python3.10/dist-packages (from python-dateutil>=2.8.2->pandas>=2.0.0->pyldavis) (1.16.0)\n"
          ]
        }
      ],
      "source": [
        "# Install pyLDAvis\n",
        "!pip install pyldavis\n"
      ]
    },
    {
      "cell_type": "code",
      "execution_count": null,
      "metadata": {
        "colab": {
          "base_uri": "https://localhost:8080/",
          "height": 917
        },
        "id": "B9FG38wQYw6k",
        "outputId": "c47d03b7-d46e-4303-f2c3-003ebacca1de"
      },
      "outputs": [
        {
          "name": "stderr",
          "output_type": "stream",
          "text": [
            "/usr/local/lib/python3.10/dist-packages/ipykernel/ipkernel.py:283: DeprecationWarning: `should_run_async` will not call `transform_cell` automatically in the future. Please pass the result to `transformed_cell` argument and any exception that happen during thetransform in `preprocessing_exc_tuple` in IPython 7.17 and above.\n",
            "  and should_run_async(code)\n"
          ]
        },
        {
          "data": {
            "text/html": [
              "\n",
              "<link rel=\"stylesheet\" type=\"text/css\" href=\"https://cdn.jsdelivr.net/gh/bmabey/pyLDAvis@3.4.0/pyLDAvis/js/ldavis.v1.0.0.css\">\n",
              "\n",
              "\n",
              "<div id=\"ldavis_el147133846767491936624926794\" style=\"background-color:white;\"></div>\n",
              "<script type=\"text/javascript\">\n",
              "\n",
              "var ldavis_el147133846767491936624926794_data = {\"mdsDat\": {\"x\": [-0.08058610792263594, -0.03803569301469835, 0.11862180093733432], \"y\": [0.07971496146073478, -0.10136668458585454, 0.021651723125119694], \"topics\": [1, 2, 3], \"cluster\": [1, 1, 1], \"Freq\": [50.76479936857358, 26.51010509995774, 22.72509553146868]}, \"tinfo\": {\"Term\": [\"rt\", \"bitch\", \"hoe\", \"trash\", \"like\", \"gt\", \"look\", \"yankee\", \"ho\", \"said\", \"charlie\", \"year\", \"got\", \"fuck\", \"cunt\", \"going\", \"ghetto\", \"u\", \"shit\", \"good\", \"fag\", \"high\", \"real\", \"make\", \"game\", \"lt\", \"old\", \"ca\", \"right\", \"today\", \"goal\", \"ex\", \"shower\", \"starburst\", \"pimp\", \"jealous\", \"person\", \"impress\", \"sayin\", \"stunt\", \"reality\", \"bless\", \"inch\", \"knowing\", \"three\", \"peace\", \"monday\", \"nowadays\", \"somebody\", \"corny\", \"killer\", \"worm\", \"fat\", \"food\", \"tom\", \"surprised\", \"attractive\", \"important\", \"tyga\", \"scary\", \"attention\", \"em\", \"cold\", \"party\", \"rt\", \"ugly\", \"early\", \"relationship\", \"broke\", \"eat\", \"u\", \"hoe\", \"bruh\", \"sell\", \"got\", \"as\", \"mad\", \"wan\", \"type\", \"know\", \"single\", \"really\", \"fucking\", \"bitch\", \"na\", \"yo\", \"want\", \"ya\", \"love\", \"lol\", \"stupid\", \"ai\", \"pussy\", \"bad\", \"wit\", \"amp\", \"girl\", \"one\", \"nigga\", \"get\", \"fuck\", \"like\", \"shit\", \"day\", \"gon\", \"man\", \"need\", \"paper\", \"star\", \"jeter\", \"derek\", \"jacob\", \"bite\", \"yankee\", \"lose\", \"michael\", \"stinky\", \"memory\", \"york\", \"moving\", \"gram\", \"awesome\", \"timeline\", \"knock\", \"total\", \"weather\", \"scream\", \"bio\", \"pierced\", \"stadium\", \"sox\", \"mlb\", \"iu\", \"emoji\", \"basically\", \"twat\", \"online\", \"gt\", \"ape\", \"nip\", \"smoking\", \"sol\", \"year\", \"bud\", \"ago\", \"video\", \"freak\", \"cup\", \"jihadi\", \"cu\", \"fag\", \"season\", \"niccas\", \"kick\", \"bag\", \"check\", \"ill\", \"queer\", \"going\", \"planet\", \"win\", \"guess\", \"look\", \"killed\", \"lt\", \"like\", \"nicca\", \"ah\", \"trash\", \"old\", \"good\", \"game\", \"today\", \"shit\", \"make\", \"new\", \"nigga\", \"retarded\", \"hoe\", \"go\", \"bird\", \"get\", \"bitch\", \"rt\", \"back\", \"pussy\", \"play\", \"im\", \"time\", \"got\", \"ai\", \"as\", \"u\", \"girl\", \"caught\", \"worry\", \"gucci\", \"punch\", \"sheen\", \"grown\", \"japanese\", \"comin\", \"taught\", \"florida\", \"ram\", \"test\", \"jay\", \"cock\", \"mall\", \"window\", \"corn\", \"baker\", \"strap\", \"bacon\", \"easy\", \"climb\", \"gunna\", \"drove\", \"noticed\", \"pattism\", \"kacado\", \"stacydmomof\", \"cantucimblonde\", \"string\", \"worth\", \"four\", \"bill\", \"allowed\", \"worst\", \"class\", \"ho\", \"asking\", \"knew\", \"green\", \"war\", \"charlie\", \"level\", \"hurt\", \"morningjoe\", \"wild\", \"color\", \"slow\", \"calling\", \"soul\", \"said\", \"high\", \"ghetto\", \"cunt\", \"mouth\", \"mo\", \"bitch\", \"trash\", \"ice\", \"whore\", \"turn\", \"trust\", \"eye\", \"fuck\", \"cheat\", \"brownie\", \"cut\", \"crazy\", \"ca\", \"real\", \"school\", \"okay\", \"pussy\", \"nigga\", \"right\", \"white\", \"ur\", \"im\", \"people\", \"never\", \"get\", \"amp\", \"like\", \"take\", \"rt\", \"back\", \"lol\", \"bad\", \"one\", \"shit\", \"make\"], \"Freq\": [7972.0, 10832.0, 4180.0, 1197.0, 2682.0, 292.0, 612.0, 238.0, 232.0, 378.0, 243.0, 206.0, 1396.0, 1175.0, 291.0, 214.0, 257.0, 1372.0, 1274.0, 473.0, 166.0, 140.0, 392.0, 554.0, 273.0, 139.0, 199.0, 473.0, 360.0, 204.0, 38.62723081162787, 77.55276358734217, 34.390256906381374, 26.306763854075562, 25.47465899323997, 31.867252766072394, 82.00988158301877, 30.130591153409284, 26.896390868260116, 26.501401262739343, 25.278404302452685, 24.165781710536656, 22.683720222510185, 22.126619364136157, 41.02964617015462, 25.069587057239644, 29.36249955179598, 24.969506352039847, 89.48474235480666, 21.941593190160965, 23.68700016051369, 26.45394826801942, 217.25916438010304, 65.44931182231859, 41.08057734875177, 19.81817220623171, 18.885354109710637, 31.56546087740366, 22.981106411601104, 21.22758221128005, 59.32590012982075, 188.13611063787357, 62.75701552041744, 99.11248447472272, 6736.725649606976, 221.9874750518576, 60.10948652695125, 64.12341051726261, 104.0552743467107, 221.56478618789853, 1160.215629766036, 3352.7978433513817, 113.08026040899678, 64.5403640467946, 1146.8214577187011, 1142.7121170182793, 188.35724681788216, 315.7546865440601, 102.07677769099918, 621.6331389453806, 70.42249837973489, 392.347218956129, 484.98941260703697, 7024.405609964578, 543.0916260101482, 505.2069067389606, 527.7345020006155, 389.8976617315667, 462.6998249185774, 652.7015805550219, 266.36865517846275, 625.2429830892702, 1227.3450364839866, 378.9603731087583, 326.54650783104125, 546.4538821655046, 506.04641411434335, 522.7398651750349, 1164.7309170849858, 840.1108476233723, 703.8814742483873, 1233.408687987674, 685.9615421731794, 359.1354177101719, 350.46704382370643, 340.24340221792175, 352.13626682644286, 63.72933271295812, 34.61759284671952, 36.27205687613327, 28.09984331410501, 26.051323224232654, 22.964633010427914, 230.64142726624212, 56.49588930650684, 18.28177081175222, 17.943011722077895, 24.433592532906417, 23.450271804764707, 21.286002996942067, 21.894004502713294, 26.018625725042885, 19.035704757302206, 31.23185049601145, 16.1538996607719, 28.18950852634967, 21.020074475147073, 18.255178419410043, 18.833583262334127, 19.378855293403433, 17.852245965842123, 23.595171143359615, 23.602249572539172, 15.718882824443794, 24.508475508033786, 49.71066773148586, 29.743657511136867, 280.0498561881819, 45.16367979756158, 73.53112084294112, 28.95301015378333, 33.98744710830275, 189.56872086135448, 24.687899432778625, 61.66464474283761, 65.651924819358, 36.30037059285151, 28.774446124830984, 56.980784697172766, 34.032097312287284, 143.79487065865203, 57.28067833637569, 82.08320601682954, 44.511078669911264, 57.337557147548296, 44.393329659609456, 70.09307659520731, 58.73605119877459, 167.9189911409343, 39.54383007932792, 65.86028630678818, 65.45918553855364, 387.6525988940435, 51.549051361864386, 107.65715065782298, 1181.7265903985592, 71.49858469838806, 97.55033710412143, 555.0114346025803, 134.97439376771277, 257.3032366505769, 160.10973943963825, 128.34515820912466, 477.3692148201641, 249.45892695183713, 155.01589456867418, 559.2327657449305, 133.88828253736006, 764.2040136153914, 229.5309507889777, 224.9526142120087, 363.2552982553953, 1172.9173335382814, 949.5205635779877, 174.47058163487978, 348.9098943318507, 109.32633561271108, 170.7032509463087, 154.16263269594927, 216.235643636712, 179.97352231232017, 168.9386650749772, 152.3667901490375, 142.26724202502652, 45.847829170160566, 30.453193360651966, 27.149252043476324, 25.3173707614244, 28.603045613353643, 26.482861117991803, 18.80469264961364, 21.989463085013085, 28.381404092448477, 23.29790278843826, 20.294364805307254, 35.169814904476624, 19.105901432025128, 34.23475636175773, 25.275474306896513, 22.94699008951542, 20.216048419568054, 27.556209758124954, 17.522350524430728, 22.470261888276095, 32.94277776296548, 16.783475815654764, 23.31564893141178, 22.00578753935212, 16.96153903226112, 13.24948898449987, 13.249453507981265, 13.24938912466972, 13.249364159712185, 15.767720018614707, 37.84526735748969, 25.115522510010802, 36.71096480261186, 23.960927386490667, 40.96430768758406, 68.649644089762, 207.99782998537307, 48.72933187112427, 46.891921507950435, 42.7051509671139, 28.646156153184915, 199.32995468222717, 46.55831083854598, 75.58108834113648, 33.60456462470209, 34.90072945268979, 32.073545243546405, 60.09454206953712, 69.88113653827712, 35.487731813206146, 235.13340386000928, 102.71595794118113, 162.6576198665412, 175.9223584982609, 46.253549148493406, 41.20248126615936, 2634.8374839181324, 477.2685585475982, 41.2662864418438, 46.26424991766091, 98.96857590877913, 93.33977160701042, 76.35293124725796, 352.49801051691526, 67.51809030810354, 88.56521033857742, 74.91817674236555, 91.03583714050428, 182.9235942593482, 160.80302310102076, 95.55473622063465, 59.587301434406854, 390.5659232493921, 353.2126705308253, 134.27226342713107, 132.36907171479194, 112.17422905573402, 149.7922785091718, 127.92951389760495, 141.2727528673825, 215.97450707891332, 165.41220597916654, 266.9588158208682, 109.94112148770594, 285.79303150368725, 117.50312800866371, 139.25492207003276, 112.1264855453619, 119.03287549093012, 111.57689908646807, 99.04068521770752], \"Total\": [7972.0, 10832.0, 4180.0, 1197.0, 2682.0, 292.0, 612.0, 238.0, 232.0, 378.0, 243.0, 206.0, 1396.0, 1175.0, 291.0, 214.0, 257.0, 1372.0, 1274.0, 473.0, 166.0, 140.0, 392.0, 554.0, 273.0, 139.0, 199.0, 473.0, 360.0, 204.0, 39.32490503383426, 78.96213671335015, 35.16324744009742, 26.93511109415264, 26.14311166804783, 32.708409807069586, 84.25181309459126, 30.969203956306774, 27.65424777497813, 27.27746224345451, 26.018926585003086, 24.886393770848034, 23.375545410805973, 22.81695413654102, 42.313132970250585, 25.858268232062322, 30.298634612722665, 25.778284145046886, 92.39479384867703, 22.658779641932174, 24.48974510109366, 27.35790056250891, 224.70625627924971, 67.7140711632182, 42.51012643657146, 20.51301919942408, 19.548091327280332, 32.685838897613976, 23.798750753153733, 21.99687214477621, 61.61337676943947, 198.81732512811675, 65.94971254905744, 105.31283940633149, 7972.039244688651, 240.8493478864388, 63.44643363254862, 67.87866466178912, 112.1667612125994, 244.60565813442238, 1372.7934038023445, 4180.233679552749, 122.80816011965932, 68.8487382294278, 1396.5380106035982, 1402.895578556237, 210.37339516875102, 363.6744535128196, 111.19978233293533, 758.3760695046327, 75.78722440649011, 471.5894612725248, 594.4822946959939, 10832.160427420991, 684.2943076940568, 636.5944376642476, 675.502869310557, 485.86168997221097, 588.9175597484376, 873.3532328314993, 328.48980016720736, 878.7750800449211, 1966.8208540652295, 509.85817381186564, 429.0111432207012, 798.2380251929552, 741.1649344804152, 774.1307826937095, 2077.1763533607414, 1419.340652957681, 1175.0820137384003, 2682.094094207101, 1274.9076560798117, 505.3300183353717, 494.53511414185135, 479.51459268693117, 531.3518071973336, 64.80470100454441, 35.307798929960754, 37.00702173542037, 28.87817391675071, 26.773310601087662, 23.665119782567356, 238.29055591871077, 58.44233041953048, 18.92860242737445, 18.59948715565629, 25.330032029238296, 24.343863437011564, 22.10564609122255, 22.796321301002425, 27.091615989912523, 19.830401814635348, 32.54199956854834, 16.832773195121863, 29.38285462866365, 21.91158943406378, 19.031100254507628, 19.635076189768203, 20.208258222577644, 18.625029275227547, 24.61803656812595, 24.626563681001578, 16.407623007833333, 25.587526005092634, 51.93494102605344, 31.094234778103356, 292.903895265078, 47.43723744861606, 77.62388889752647, 30.28705278002426, 35.71022619613953, 206.73052105911495, 25.826872747583746, 65.89861149422116, 70.58790633703282, 38.33204864488293, 30.20897598197217, 61.12446558901339, 35.94447774977392, 166.46986898337286, 62.67600460201162, 92.09888479185982, 48.40308768284572, 63.691841074757086, 48.36139166039851, 80.05154245743884, 66.11657581439195, 214.57202525952434, 43.015478867142164, 76.841200000103, 76.71700777552498, 612.7341516414838, 58.66728567821745, 139.76062693431578, 2682.094094207101, 88.03151138465167, 130.97067433092158, 1197.3352512813458, 199.4714700200452, 473.7816971078507, 273.7477621001444, 204.87570596872376, 1274.9076560798117, 554.7422851304317, 286.16774768174037, 2077.1763533607414, 239.37110010715807, 4180.233679552749, 596.5225484042874, 590.6365583098885, 1419.340652957681, 10832.160427420991, 7972.039244688651, 449.2252615945946, 1966.8208540652295, 193.76143245387237, 514.0305680980479, 446.4568664138801, 1396.5380106035982, 878.7750800449211, 1402.895578556237, 1372.7934038023445, 741.1649344804152, 46.80512136254986, 31.204945927042196, 27.867333446923862, 26.006550755100836, 29.397247555283332, 27.348946338949276, 19.448858714884793, 22.765102244594125, 29.39513519701941, 24.151221203175883, 21.039249464930858, 36.48077014310562, 19.83160240841608, 35.53934923485367, 26.25912071379983, 23.845635702316837, 21.01806270427985, 28.65570765056544, 18.22707753764603, 23.392915552307457, 34.30709291593155, 17.509927467680882, 24.347914739305526, 22.986834381262273, 17.73870357741635, 13.865472868059783, 13.865456569695226, 13.865468057194324, 13.865456127288777, 16.50363600969603, 39.63764244783232, 26.312461499806872, 38.611651390544374, 25.125047824453937, 43.49825303584331, 73.84770503412697, 232.86592360957454, 52.62057407614473, 51.04969657175053, 46.46423164304965, 30.43197358335841, 243.39413963488357, 51.36168360455249, 87.08731169039785, 36.21725992330209, 37.841405995126166, 34.55328144682026, 69.9764581624566, 83.71477109864554, 39.128348127888785, 378.641240623855, 140.1764970639392, 257.4573567716982, 291.0495382610129, 55.175591888135415, 47.76698326485845, 10832.160427420991, 1197.3352512813458, 48.55157064360682, 57.04441852240094, 170.4389492480384, 160.0550994860655, 119.79167865996666, 1175.0820137384003, 99.99720739955139, 150.93980678477334, 117.74411073369401, 158.7531767356244, 473.45284164558603, 392.9310597924152, 173.80173834917565, 83.32372933760571, 1966.8208540652295, 2077.1763533607414, 360.23791240758544, 354.5756919791984, 273.52944239978495, 514.0305680980479, 398.43939252417647, 518.3998456492125, 1419.340652957681, 798.2380251929552, 2682.094094207101, 309.3101486157967, 7972.039244688651, 449.2252615945946, 873.3532328314993, 509.85817381186564, 774.1307826937095, 1274.9076560798117, 554.7422851304317], \"Category\": [\"Default\", \"Default\", \"Default\", \"Default\", \"Default\", \"Default\", \"Default\", \"Default\", \"Default\", \"Default\", \"Default\", \"Default\", \"Default\", \"Default\", \"Default\", \"Default\", \"Default\", \"Default\", \"Default\", \"Default\", \"Default\", \"Default\", \"Default\", \"Default\", \"Default\", \"Default\", \"Default\", \"Default\", \"Default\", \"Default\", \"Topic1\", \"Topic1\", \"Topic1\", \"Topic1\", \"Topic1\", \"Topic1\", \"Topic1\", \"Topic1\", \"Topic1\", \"Topic1\", \"Topic1\", \"Topic1\", \"Topic1\", \"Topic1\", \"Topic1\", \"Topic1\", \"Topic1\", \"Topic1\", \"Topic1\", \"Topic1\", \"Topic1\", \"Topic1\", \"Topic1\", \"Topic1\", \"Topic1\", \"Topic1\", \"Topic1\", \"Topic1\", \"Topic1\", \"Topic1\", \"Topic1\", \"Topic1\", \"Topic1\", \"Topic1\", \"Topic1\", \"Topic1\", \"Topic1\", \"Topic1\", \"Topic1\", \"Topic1\", \"Topic1\", \"Topic1\", \"Topic1\", \"Topic1\", \"Topic1\", \"Topic1\", \"Topic1\", \"Topic1\", \"Topic1\", \"Topic1\", \"Topic1\", \"Topic1\", \"Topic1\", \"Topic1\", \"Topic1\", \"Topic1\", \"Topic1\", \"Topic1\", \"Topic1\", \"Topic1\", \"Topic1\", \"Topic1\", \"Topic1\", \"Topic1\", \"Topic1\", \"Topic1\", \"Topic1\", \"Topic1\", \"Topic1\", \"Topic1\", \"Topic1\", \"Topic1\", \"Topic1\", \"Topic1\", \"Topic1\", \"Topic1\", \"Topic1\", \"Topic2\", \"Topic2\", \"Topic2\", \"Topic2\", \"Topic2\", \"Topic2\", \"Topic2\", \"Topic2\", \"Topic2\", \"Topic2\", \"Topic2\", \"Topic2\", \"Topic2\", \"Topic2\", \"Topic2\", \"Topic2\", \"Topic2\", \"Topic2\", \"Topic2\", \"Topic2\", \"Topic2\", \"Topic2\", \"Topic2\", \"Topic2\", \"Topic2\", \"Topic2\", \"Topic2\", \"Topic2\", \"Topic2\", \"Topic2\", \"Topic2\", \"Topic2\", \"Topic2\", \"Topic2\", \"Topic2\", \"Topic2\", \"Topic2\", \"Topic2\", \"Topic2\", \"Topic2\", \"Topic2\", \"Topic2\", \"Topic2\", \"Topic2\", \"Topic2\", \"Topic2\", \"Topic2\", \"Topic2\", \"Topic2\", \"Topic2\", \"Topic2\", \"Topic2\", \"Topic2\", \"Topic2\", \"Topic2\", \"Topic2\", \"Topic2\", \"Topic2\", \"Topic2\", \"Topic2\", \"Topic2\", \"Topic2\", \"Topic2\", \"Topic2\", \"Topic2\", \"Topic2\", \"Topic2\", \"Topic2\", \"Topic2\", \"Topic2\", \"Topic2\", \"Topic2\", \"Topic2\", \"Topic2\", \"Topic2\", \"Topic2\", \"Topic2\", \"Topic2\", \"Topic2\", \"Topic2\", \"Topic2\", \"Topic2\", \"Topic2\", \"Topic2\", \"Topic2\", \"Topic2\", \"Topic2\", \"Topic3\", \"Topic3\", \"Topic3\", \"Topic3\", \"Topic3\", \"Topic3\", \"Topic3\", \"Topic3\", \"Topic3\", \"Topic3\", \"Topic3\", \"Topic3\", \"Topic3\", \"Topic3\", \"Topic3\", \"Topic3\", \"Topic3\", \"Topic3\", \"Topic3\", \"Topic3\", \"Topic3\", \"Topic3\", \"Topic3\", \"Topic3\", \"Topic3\", \"Topic3\", \"Topic3\", \"Topic3\", \"Topic3\", \"Topic3\", \"Topic3\", \"Topic3\", \"Topic3\", \"Topic3\", \"Topic3\", \"Topic3\", \"Topic3\", \"Topic3\", \"Topic3\", \"Topic3\", \"Topic3\", \"Topic3\", \"Topic3\", \"Topic3\", \"Topic3\", \"Topic3\", \"Topic3\", \"Topic3\", \"Topic3\", \"Topic3\", \"Topic3\", \"Topic3\", \"Topic3\", \"Topic3\", \"Topic3\", \"Topic3\", \"Topic3\", \"Topic3\", \"Topic3\", \"Topic3\", \"Topic3\", \"Topic3\", \"Topic3\", \"Topic3\", \"Topic3\", \"Topic3\", \"Topic3\", \"Topic3\", \"Topic3\", \"Topic3\", \"Topic3\", \"Topic3\", \"Topic3\", \"Topic3\", \"Topic3\", \"Topic3\", \"Topic3\", \"Topic3\", \"Topic3\", \"Topic3\", \"Topic3\", \"Topic3\", \"Topic3\", \"Topic3\", \"Topic3\", \"Topic3\", \"Topic3\", \"Topic3\", \"Topic3\", \"Topic3\", \"Topic3\"], \"logprob\": [30.0, 29.0, 28.0, 27.0, 26.0, 25.0, 24.0, 23.0, 22.0, 21.0, 20.0, 19.0, 18.0, 17.0, 16.0, 15.0, 14.0, 13.0, 12.0, 11.0, 10.0, 9.0, 8.0, 7.0, 6.0, 5.0, 4.0, 3.0, 2.0, 1.0, -7.8675, -7.1704, -7.9836, -8.2516, -8.2837, -8.0598, -7.1146, -8.1159, -8.2294, -8.2442, -8.2915, -8.3365, -8.3998, -8.4246, -7.8071, -8.2998, -8.1417, -8.3038, -7.0273, -8.433, -8.3565, -8.246, -6.1403, -7.3401, -7.8059, -8.5348, -8.583, -8.0693, -8.3867, -8.4661, -7.4384, -6.2842, -7.3821, -6.9252, -2.7061, -6.1188, -7.4252, -7.3606, -6.8765, -6.1207, -4.465, -3.4039, -6.7933, -7.3541, -4.4767, -4.4802, -6.2831, -5.7664, -6.8957, -5.0891, -7.2669, -5.5493, -5.3373, -2.6643, -5.2241, -5.2964, -5.2528, -5.5555, -5.3843, -5.0403, -5.9365, -5.0833, -4.4088, -5.584, -5.7328, -5.218, -5.2948, -5.2623, -4.4612, -4.7879, -4.9648, -4.4039, -4.9906, -5.6377, -5.6621, -5.6917, -5.6574, -6.7171, -7.3274, -7.2807, -7.536, -7.6117, -7.7378, -5.4309, -6.8376, -7.9658, -7.9845, -7.6758, -7.7168, -7.8137, -7.7855, -7.6129, -7.9254, -7.4303, -8.0896, -7.5328, -7.8263, -7.9673, -7.9361, -7.9075, -7.9896, -7.7107, -7.7104, -8.1169, -7.6727, -6.9655, -7.4791, -5.2368, -7.0614, -6.574, -7.5061, -7.3457, -5.627, -7.6654, -6.75, -6.6874, -7.2799, -7.5122, -6.829, -7.3444, -5.9033, -6.8238, -6.464, -7.076, -6.8228, -7.0786, -6.6219, -6.7987, -5.7482, -7.1943, -6.6842, -6.6903, -4.9116, -6.9292, -6.1928, -3.797, -6.6021, -6.2914, -4.5527, -5.9666, -5.3215, -5.7959, -6.017, -4.7034, -5.3524, -5.8282, -4.5452, -5.9747, -4.2329, -5.4357, -5.4558, -4.9766, -3.8045, -4.0158, -5.71, -5.0169, -6.1774, -5.7318, -5.8337, -5.4954, -5.6789, -5.7422, -5.8454, -5.914, -6.8923, -7.3015, -7.4163, -7.4862, -7.3642, -7.4412, -7.7836, -7.6271, -7.3719, -7.5693, -7.7073, -7.1575, -7.7677, -7.1844, -7.4878, -7.5845, -7.7112, -7.4014, -7.8542, -7.6055, -7.2229, -7.8973, -7.5686, -7.6264, -7.8867, -8.1337, -8.1337, -8.1337, -8.1337, -7.9597, -7.0842, -7.4942, -7.1146, -7.5413, -7.005, -6.4887, -5.3801, -6.8314, -6.8698, -6.9634, -7.3627, -5.4227, -6.877, -6.3925, -7.203, -7.1652, -7.2496, -6.6218, -6.4709, -7.1485, -5.2575, -6.0857, -5.626, -5.5476, -6.8835, -6.9992, -2.8411, -4.5496, -6.9976, -6.8833, -6.1229, -6.1814, -6.3823, -4.8526, -6.5053, -6.2339, -6.4013, -6.2064, -5.5086, -5.6375, -6.158, -6.6302, -4.7501, -4.8506, -5.8178, -5.8321, -5.9976, -5.7084, -5.8662, -5.767, -5.3425, -5.6092, -5.1306, -6.0177, -5.0624, -5.9512, -5.7814, -5.998, -5.9383, -6.003, -6.1221], \"loglift\": [30.0, 29.0, 28.0, 27.0, 26.0, 25.0, 24.0, 23.0, 22.0, 21.0, 20.0, 19.0, 18.0, 17.0, 16.0, 15.0, 14.0, 13.0, 12.0, 11.0, 10.0, 9.0, 8.0, 7.0, 6.0, 5.0, 4.0, 3.0, 2.0, 1.0, 0.6601, 0.66, 0.6557, 0.6544, 0.6521, 0.6519, 0.651, 0.6505, 0.6502, 0.6491, 0.6491, 0.6486, 0.6479, 0.6472, 0.6472, 0.647, 0.6466, 0.6461, 0.646, 0.6458, 0.6446, 0.6444, 0.6443, 0.6439, 0.6438, 0.6435, 0.6435, 0.6431, 0.643, 0.6424, 0.6401, 0.6227, 0.6283, 0.6173, 0.5096, 0.5964, 0.6239, 0.6211, 0.6029, 0.579, 0.5097, 0.4574, 0.5954, 0.6133, 0.481, 0.4728, 0.5674, 0.5367, 0.5924, 0.4791, 0.6046, 0.494, 0.4744, 0.2448, 0.4469, 0.4468, 0.4311, 0.4579, 0.4368, 0.3867, 0.4683, 0.3376, 0.2064, 0.3813, 0.4051, 0.299, 0.2964, 0.2853, 0.0994, 0.1536, 0.1655, -0.0988, 0.0582, 0.3365, 0.3336, 0.3349, 0.2666, 1.3109, 1.3079, 1.3076, 1.3003, 1.3003, 1.2976, 1.295, 1.2938, 1.2929, 1.2917, 1.2916, 1.2902, 1.2899, 1.2873, 1.2872, 1.2867, 1.2866, 1.2865, 1.2862, 1.2861, 1.286, 1.286, 1.2857, 1.2853, 1.2852, 1.2852, 1.2848, 1.2846, 1.2839, 1.2832, 1.2828, 1.2785, 1.2735, 1.2826, 1.2782, 1.241, 1.2825, 1.2612, 1.2552, 1.2732, 1.279, 1.2574, 1.273, 1.1812, 1.2376, 1.2125, 1.2438, 1.2225, 1.242, 1.1948, 1.2093, 1.0825, 1.2435, 1.1734, 1.1689, 0.8698, 1.1983, 1.0667, 0.508, 1.1196, 1.033, 0.5588, 0.9371, 0.7172, 0.7913, 0.86, 0.3453, 0.5284, 0.7146, 0.0154, 0.7466, -0.3716, 0.3726, 0.3623, -0.0352, -0.8954, -0.8001, 0.3819, -0.4017, 0.7554, 0.2253, 0.2643, -0.5377, -0.2581, -0.7891, -0.8707, -0.3229, 1.461, 1.4573, 1.4556, 1.4548, 1.4543, 1.4495, 1.448, 1.447, 1.4466, 1.4457, 1.4457, 1.4451, 1.4444, 1.4443, 1.4435, 1.4433, 1.4428, 1.4426, 1.4423, 1.4415, 1.4411, 1.4393, 1.4384, 1.4381, 1.4369, 1.4363, 1.4363, 1.4363, 1.4362, 1.4361, 1.4354, 1.4351, 1.4312, 1.4343, 1.4217, 1.4087, 1.3688, 1.4049, 1.3967, 1.3973, 1.4212, 1.282, 1.3835, 1.34, 1.4068, 1.4008, 1.4072, 1.3295, 1.3011, 1.384, 1.0053, 1.1708, 1.0225, 0.9782, 1.3053, 1.3339, 0.068, 0.5619, 1.3191, 1.2722, 0.9381, 0.9424, 1.0313, 0.2777, 1.089, 0.9486, 1.0296, 0.9256, 0.5307, 0.5882, 0.8835, 1.1464, -0.1349, -0.29, 0.4948, 0.4964, 0.5903, 0.2487, 0.3456, 0.1816, -0.4011, -0.0923, -0.8256, 0.4473, -1.8467, 0.1406, -0.3543, -0.0328, -0.3906, -0.9542, -0.2413]}, \"token.table\": {\"Topic\": [1, 2, 3, 1, 2, 3, 1, 2, 3, 2, 3, 1, 2, 3, 1, 2, 3, 1, 2, 3, 1, 2, 3, 1, 2, 3, 1, 2, 3, 1, 2, 3, 1, 3, 1, 2, 3, 1, 2, 3, 1, 3, 1, 2, 1, 2, 3, 2, 1, 2, 3, 1, 2, 3, 2, 1, 1, 2, 3, 1, 2, 3, 1, 2, 3, 2, 3, 1, 2, 3, 1, 2, 3, 3, 1, 3, 1, 2, 3, 1, 2, 3, 1, 2, 3, 1, 2, 3, 3, 1, 2, 3, 1, 2, 3, 1, 2, 3, 3, 3, 1, 1, 2, 3, 1, 2, 3, 1, 2, 3, 1, 2, 1, 2, 3, 1, 2, 3, 2, 1, 3, 1, 2, 1, 3, 1, 2, 3, 1, 2, 3, 2, 1, 2, 3, 1, 2, 3, 1, 2, 3, 1, 2, 3, 1, 3, 1, 2, 3, 1, 3, 2, 3, 1, 2, 3, 1, 2, 3, 1, 2, 3, 1, 2, 3, 1, 2, 3, 1, 2, 3, 1, 2, 3, 1, 1, 2, 3, 1, 2, 3, 1, 2, 3, 1, 2, 3, 1, 2, 1, 2, 3, 3, 1, 2, 3, 3, 1, 2, 3, 2, 3, 1, 2, 3, 1, 2, 3, 1, 2, 3, 1, 2, 3, 1, 3, 1, 2, 3, 1, 2, 3, 1, 3, 1, 1, 1, 2, 2, 3, 3, 1, 2, 1, 2, 3, 3, 1, 2, 3, 1, 2, 3, 1, 1, 2, 3, 2, 3, 1, 2, 3, 1, 1, 2, 3, 1, 2, 3, 1, 2, 3, 1, 2, 3, 1, 2, 3, 1, 2, 3, 1, 2, 3, 1, 2, 3, 1, 2, 3, 1, 3, 1, 2, 3, 2, 3, 2, 1, 2, 1, 2, 3, 1, 2, 1, 2, 3, 1, 2, 3, 2, 1, 2, 3, 1, 2, 3, 1, 2, 3, 1, 2, 3, 1, 2, 3, 1, 2, 3, 1, 2, 3, 1, 2, 3, 3, 1, 1, 2, 3, 1, 2, 3, 1, 2, 3, 2, 3, 1, 2, 3, 1, 2, 3, 3, 1, 1, 2, 3, 1, 2, 3, 2, 1, 1, 2, 3, 1, 2, 3, 3, 1, 2, 3, 1, 2, 3, 3, 1, 2, 3, 1, 1, 2, 3, 1, 2, 3, 1, 2, 3, 1, 2, 3, 1, 2, 3, 1, 2, 3, 1, 1, 1, 2, 3, 1, 2, 1, 2, 3, 1, 2, 3, 3, 1, 2, 3, 1, 1, 2, 1, 2, 3, 2, 3, 1, 2, 3, 1, 2, 3, 1, 2, 3, 2, 3, 2, 2, 1, 2, 3, 3, 1, 1, 2, 3, 1, 1, 2, 3, 1, 3, 1, 2, 3, 1, 2, 3, 1, 2, 3, 2, 1, 2, 3, 1, 2, 2, 1, 2, 3, 1, 2, 3, 1, 2, 3, 1, 2, 3, 1, 1, 2, 3, 1, 2, 3, 1, 2, 3, 1, 2, 3, 1, 2, 3, 1, 2, 3, 1, 2, 3, 1, 2, 3, 1, 2, 1, 2, 3, 1, 2, 3, 1, 2, 3, 1, 2, 3, 3, 1, 2, 3, 1, 3, 2, 3, 1, 2, 3, 1, 2, 3, 1, 2, 3, 1, 2, 3, 1, 2, 3, 2, 3], \"Freq\": [0.045524479681382644, 0.9408392467485747, 0.015174826560460881, 0.06871767321942497, 0.7482591083892942, 0.19088242560951382, 0.7112172547815664, 0.2048305693770911, 0.08420812296613746, 0.03980091926538388, 0.9552220623692131, 0.6840065027821963, 0.10773728798400894, 0.2067052618297846, 0.04216097116039687, 0.9486218511089295, 0.021080485580198434, 0.8147434616454465, 0.12046513124941423, 0.06486583990353073, 0.019003973589359697, 0.057011920768079094, 0.9311947058786252, 0.9575842632482413, 0.032460483499940386, 0.016230241749970193, 0.9719619006222135, 0.9597065014387114, 0.03691178851687352, 0.3494905861765302, 0.3873335158899125, 0.2626744533046533, 0.04274798486592924, 0.9404556670504434, 0.7433439718470582, 0.037265265079403975, 0.21966893099438134, 0.04710179434880532, 0.8949340926273012, 0.04710179434880532, 0.034897061771924795, 0.9771177296138942, 0.03908154308474262, 0.9770385771185655, 0.02589891817589782, 0.02589891817589782, 0.9582599725082194, 0.9458202499740704, 0.5079265680039389, 0.38094492600295415, 0.11005075640085342, 0.6484394361644744, 0.10828864729796818, 0.24325710624905897, 0.9718945102041144, 0.964382393889212, 0.9271908975144586, 0.01783059418297036, 0.05349178254891107, 0.2252553565838398, 0.18550441130433865, 0.5896390216459336, 0.9201342963683957, 0.05699946968653779, 0.016285562767582223, 0.9679840158866658, 0.03871936063546663, 0.46467141106460197, 0.14996213720721244, 0.38652212829464616, 0.08361726261846347, 0.08361726261846347, 0.8361726261846347, 0.9375818495011166, 0.02136518335790769, 0.9827984344637537, 0.012325687070774633, 0.16845105663392, 0.8176039090280506, 0.3000083780353109, 0.03000083780353109, 0.6800189902133713, 0.020677651441922126, 0.9098166634445736, 0.06203295432576638, 0.0406241466625621, 0.027082764441708068, 0.9343553732389284, 0.9708778081107369, 0.028137825298705628, 0.028137825298705628, 0.9566860601559913, 0.95527330696304, 0.0303261367289854, 0.0151630683644927, 0.02894081135359213, 0.02894081135359213, 0.9261059633149482, 0.9663914426399816, 0.951562486105223, 0.970926075793021, 0.39684245251303196, 0.03149543273912952, 0.5732168758521573, 0.027820685195691565, 0.9459032966535131, 0.027820685195691565, 0.27486729742981447, 0.12025444262554383, 0.6047080543455918, 0.03310274405185964, 0.9599795775039296, 0.28026879471396454, 0.08492993779211047, 0.6369745334408285, 0.7104268240042351, 0.15831238417921675, 0.1306077169478538, 0.9695903931016452, 0.043503162872011225, 0.957069583184247, 0.9456796318527735, 0.04728398159263867, 0.02914849131782948, 0.9619002134883728, 0.9075832574486093, 0.06132319307085198, 0.032705702971121055, 0.945591637342741, 0.03017845651093854, 0.02011897100729236, 0.9751564862479638, 0.9878152143116021, 0.012664297619379514, 0.012664297619379514, 0.34226083529875306, 0.016695650502378197, 0.6344347190903715, 0.09010639638034564, 0.8650214052513181, 0.042049651644161294, 0.9657051992817107, 0.022251271872850475, 0.00890050874914019, 0.04140577371170366, 0.9523327953691841, 0.9599186532932544, 0.014767979281434683, 0.014767979281434683, 0.03800480620208565, 0.9501201550521412, 0.9391619094902134, 0.05217566163834519, 0.5991071191365595, 0.10126952724041276, 0.2995535595682797, 0.8158359034864429, 0.14466368597903936, 0.03868912531997564, 0.3397288046723029, 0.5844796639523491, 0.07671295589374581, 0.5918240968083125, 0.25575255612073505, 0.15218333917928034, 0.27188968642318856, 0.09710345943685306, 0.6331145555282819, 0.6827090387846333, 0.19159028361149788, 0.12547814349203734, 0.45597605778290656, 0.3855679900370166, 0.15925634371094163, 0.9917379321436448, 0.1817571510211063, 0.7829538813216886, 0.03728351815817565, 0.7077353862067857, 0.2527626379309949, 0.04044202206895918, 0.3693684265733958, 0.5424439178820727, 0.08653774565433844, 0.8213167069503928, 0.15466818544139915, 0.023629861664658205, 0.04386672686333943, 0.9650679909934675, 0.04304386254279468, 0.04304386254279468, 0.9254430446700855, 0.9506764786390267, 0.03755498024375879, 0.9559449516593148, 0.0034140891130689816, 0.9688763387219741, 0.1173142730792385, 0.8472697500167224, 0.026069838462052998, 0.041071279027672616, 0.9446394176364701, 0.2639529505657647, 0.007133863528804451, 0.7347879434668584, 0.042943165942845744, 0.06012043231998404, 0.8932178516111915, 0.8021082688273885, 0.18276490229171632, 0.015070927806777655, 0.08037910304184774, 0.04593091602391299, 0.8726874044543469, 0.144176592172137, 0.844462897008231, 0.02498390335280977, 0.874436617348342, 0.09993561341123908, 0.3774094616937174, 0.332665040977452, 0.2918114394539052, 0.9790172465891936, 0.0305942889559123, 0.9687042664165929, 0.9839342610319429, 0.04060655855008551, 0.9745574052020524, 0.9711163623875395, 0.9769210768886265, 0.9580668071449855, 0.9783416616323405, 0.9727883604733172, 0.04908018370534801, 0.9325234904016122, 0.016360061235116, 0.9375818195856027, 0.02065983902829415, 0.9296927562732369, 0.0413196780565883, 0.017045274695080864, 0.886354284144205, 0.10227164817048519, 0.9800020335421217, 0.01958875502020852, 0.058766265060625565, 0.9206714859498005, 0.9526150946778736, 0.030729519183157212, 0.8201735590183998, 0.10285134662931703, 0.07779781347602185, 0.9641953026836004, 0.019469766756465206, 0.07787906702586082, 0.9150790375538647, 0.4597154151538102, 0.44070042231289835, 0.09954908016712678, 0.7476928869695806, 0.09274597832241352, 0.1591566788495738, 0.30355742290798615, 0.6332273123026808, 0.06364913706135193, 0.01711088508657102, 0.9582095648479771, 0.01711088508657102, 0.786188138451459, 0.13754047346559, 0.07810940468416222, 0.2074976381841026, 0.7727498249614856, 0.02146527291559682, 0.8936491225480094, 0.07130179169266034, 0.03327416945657482, 0.3713436049886931, 0.4488570759329349, 0.1784612470576729, 0.038082006282658, 0.95205015706645, 0.7090503713241144, 0.1272119783846205, 0.16266449695082624, 0.9474918931131612, 0.039478828879715044, 0.9509418388950095, 0.040620623713539514, 0.9748949691249484, 0.02093496242907362, 0.12560977457444172, 0.8583334595920183, 0.9571388404354909, 0.03300478760122382, 0.027611144579068575, 0.027611144579068575, 0.9387789156883316, 0.09061978003130704, 0.05437186801878422, 0.8337019762880247, 0.949983543269447, 0.7935182185422643, 0.15198138992338028, 0.054070302184279516, 0.6624612831499679, 0.15244137481575967, 0.18443524360425242, 0.6018520310500289, 0.12538583980208934, 0.27199082172453226, 0.387884382147243, 0.5416403534488529, 0.06988907786436811, 0.07951698079354404, 0.8065293766202324, 0.10223611816312805, 0.09772105297843375, 0.8903473715812853, 0.010857894775381528, 0.5608575305197862, 0.2691153300949017, 0.1699422388613601, 0.03864789619031309, 0.9533147726943896, 0.012882632063437698, 0.9583563942994789, 0.9698085357168186, 0.060006915673941126, 0.21602489642618805, 0.7200829880872934, 0.25066241300059316, 0.6767885151016014, 0.07018547564016608, 0.6755964388602911, 0.17051382395709067, 0.15372079584010448, 0.9648090784059455, 0.03216030261353152, 0.0154309793039532, 0.9875826754530048, 0.0154309793039532, 0.9400563175210338, 0.018991036717596645, 0.03798207343519329, 0.9375807174919026, 0.9668087505180206, 0.5270563200832549, 0.1505875200237871, 0.32125337605074583, 0.9732728233152312, 0.011869180772136965, 0.011869180772136965, 0.9676560363896556, 0.9562748427745522, 0.02324744548557986, 0.9298978194231944, 0.04649489097115972, 0.2632102754098975, 0.5625474513662515, 0.17031253114758074, 0.9612962609082861, 0.6238493950600071, 0.17744371546531582, 0.19879797348692974, 0.0756240010679988, 0.8923632126023857, 0.04537440064079928, 0.9506042519880225, 0.5166300676440405, 0.07380429537772007, 0.4097410881314804, 0.960839023021404, 0.8312314676037021, 0.13147028314140186, 0.03604830344199728, 0.942858854382082, 0.044196508799160095, 0.01473216959972003, 0.24230159770346307, 0.5598002429700698, 0.20052546016838324, 0.2803702678737633, 0.3469929057843605, 0.37197639500083446, 0.8450786295976287, 0.11916649816205244, 0.03587538786773368, 0.07923067215438959, 0.29843553178153415, 0.6206402652093852, 0.9763418705038832, 0.9546811865698395, 0.4142651315451673, 0.040275776678002376, 0.5523535087268897, 0.045637948949764404, 0.9583969279450525, 0.06382027739961614, 0.90943895294453, 0.03191013869980807, 0.9440986381391265, 0.014524594432909639, 0.058098377731638555, 0.9864869132888621, 0.5380781868620726, 0.3741447450921409, 0.0878494998958486, 0.9669186572690966, 0.9236385228274105, 0.06597418020195789, 0.11432416286956516, 0.02858104071739129, 0.8574312215217387, 0.9575048523416206, 0.03301740870143519, 0.028003183024029835, 0.9521082228170143, 0.028003183024029835, 0.963257736640043, 0.010823120636404978, 0.021646241272809955, 0.05111383678818011, 0.025556918394090054, 0.8944921437931519, 0.966441433944006, 0.9375810428018503, 0.940209680158, 0.991282409572703, 0.9652828202236136, 0.967768619067866, 0.9875417473164843, 0.9694833302552153, 0.9898281503983718, 0.8097663911165616, 0.015221172765348902, 0.1735213695249775, 0.974990556268846, 0.4493871301088669, 0.19398005616210082, 0.3556301029638515, 0.03401923458754486, 0.9525385684512561, 0.02741170200292459, 0.02741170200292459, 0.9594095701023606, 0.9689663024675148, 0.02363332445042719, 0.02363332445042719, 0.5510050768755563, 0.3449381375562426, 0.10303346965965687, 0.9581248114688987, 0.13666822948873433, 0.624769049091357, 0.2391694016052851, 0.9644760775100331, 0.02352380676853739, 0.9505266787909196, 0.13780601533565712, 0.46352932431084665, 0.39838466251580873, 0.3561273597843876, 0.06247848417269958, 0.5810499028061061, 0.22882093659967137, 0.1936177155843373, 0.5808531467530119, 0.019254859642535163, 0.9627429821267581, 0.019254859642535163, 0.9664372822994549, 0.9172679825452273, 0.04496411679143271, 0.035971293433146166, 0.8449924051113938, 0.11072314273873436, 0.0437065037126583, 0.9217380156855299, 0.045671703479913645, 0.03321578434902811, 0.5374192946481712, 0.051182789966492497, 0.40946231973193997, 0.014166732686833721, 0.9350043573310256, 0.056666930747334886, 0.8689089842513806, 0.049494815558622944, 0.08249135926437158, 0.7816399070797377, 0.10362650283254099, 0.11546953172768853, 0.032860175737890546, 0.032860175737890546, 0.9529450963988259, 0.03403345293157721, 0.9529366820841619, 0.2820272293394174, 0.3440732197940892, 0.37227594272803094, 0.1753019885034514, 0.017530198850345142, 0.8063891471158765, 0.02642607941493496, 0.05285215882986992, 0.9249127795227237, 0.11712466749592583, 0.8589142283034561, 0.02602770388798352, 0.9645370870848843, 0.762217963722629, 0.12820179817964708, 0.10955426389897115, 0.9503653228285446, 0.9613860594452115, 0.045978858009584095, 0.942566589196474, 0.025228543834717582, 0.025228543834717582, 0.9586846657192681, 0.8026975743288305, 0.16671411159137248, 0.030872983628031942, 0.016786229670656943, 0.9694047634804385, 0.016786229670656943, 0.03386050576440205, 0.9190708707480555, 0.04837215109200292, 0.7932837142795566, 0.0832555185283495, 0.12409784837244549, 0.9447966243941214, 0.041078114104092234], \"Term\": [\"ago\", \"ago\", \"ago\", \"ah\", \"ah\", \"ah\", \"ai\", \"ai\", \"ai\", \"allowed\", \"allowed\", \"amp\", \"amp\", \"amp\", \"ape\", \"ape\", \"ape\", \"as\", \"as\", \"as\", \"asking\", \"asking\", \"asking\", \"attention\", \"attention\", \"attention\", \"attractive\", \"awesome\", \"awesome\", \"back\", \"back\", \"back\", \"bacon\", \"bacon\", \"bad\", \"bad\", \"bad\", \"bag\", \"bag\", \"bag\", \"baker\", \"baker\", \"basically\", \"basically\", \"bill\", \"bill\", \"bill\", \"bio\", \"bird\", \"bird\", \"bird\", \"bitch\", \"bitch\", \"bitch\", \"bite\", \"bless\", \"broke\", \"broke\", \"broke\", \"brownie\", \"brownie\", \"brownie\", \"bruh\", \"bruh\", \"bruh\", \"bud\", \"bud\", \"ca\", \"ca\", \"ca\", \"calling\", \"calling\", \"calling\", \"cantucimblonde\", \"caught\", \"caught\", \"charlie\", \"charlie\", \"charlie\", \"cheat\", \"cheat\", \"cheat\", \"check\", \"check\", \"check\", \"class\", \"class\", \"class\", \"climb\", \"cock\", \"cock\", \"cock\", \"cold\", \"cold\", \"cold\", \"color\", \"color\", \"color\", \"comin\", \"corn\", \"corny\", \"crazy\", \"crazy\", \"crazy\", \"cu\", \"cu\", \"cu\", \"cunt\", \"cunt\", \"cunt\", \"cup\", \"cup\", \"cut\", \"cut\", \"cut\", \"day\", \"day\", \"day\", \"derek\", \"drove\", \"drove\", \"early\", \"early\", \"easy\", \"easy\", \"eat\", \"eat\", \"eat\", \"em\", \"em\", \"em\", \"emoji\", \"ex\", \"ex\", \"ex\", \"eye\", \"eye\", \"eye\", \"fag\", \"fag\", \"fag\", \"fat\", \"fat\", \"fat\", \"florida\", \"florida\", \"food\", \"food\", \"food\", \"four\", \"four\", \"freak\", \"freak\", \"fuck\", \"fuck\", \"fuck\", \"fucking\", \"fucking\", \"fucking\", \"game\", \"game\", \"game\", \"get\", \"get\", \"get\", \"ghetto\", \"ghetto\", \"ghetto\", \"girl\", \"girl\", \"girl\", \"go\", \"go\", \"go\", \"goal\", \"going\", \"going\", \"going\", \"gon\", \"gon\", \"gon\", \"good\", \"good\", \"good\", \"got\", \"got\", \"got\", \"gram\", \"gram\", \"green\", \"green\", \"green\", \"grown\", \"gt\", \"gt\", \"gt\", \"gucci\", \"guess\", \"guess\", \"guess\", \"gunna\", \"gunna\", \"high\", \"high\", \"high\", \"ho\", \"ho\", \"ho\", \"hoe\", \"hoe\", \"hoe\", \"hurt\", \"hurt\", \"hurt\", \"ice\", \"ice\", \"ill\", \"ill\", \"ill\", \"im\", \"im\", \"im\", \"important\", \"important\", \"impress\", \"inch\", \"iu\", \"iu\", \"jacob\", \"japanese\", \"jay\", \"jealous\", \"jeter\", \"jihadi\", \"jihadi\", \"jihadi\", \"kacado\", \"kick\", \"kick\", \"kick\", \"killed\", \"killed\", \"killed\", \"killer\", \"knew\", \"knew\", \"knew\", \"knock\", \"knock\", \"know\", \"know\", \"know\", \"knowing\", \"level\", \"level\", \"level\", \"like\", \"like\", \"like\", \"lol\", \"lol\", \"lol\", \"look\", \"look\", \"look\", \"lose\", \"lose\", \"lose\", \"love\", \"love\", \"love\", \"lt\", \"lt\", \"lt\", \"mad\", \"mad\", \"mad\", \"make\", \"make\", \"make\", \"mall\", \"mall\", \"man\", \"man\", \"man\", \"memory\", \"memory\", \"michael\", \"mlb\", \"mlb\", \"mo\", \"mo\", \"mo\", \"monday\", \"monday\", \"morningjoe\", \"morningjoe\", \"morningjoe\", \"mouth\", \"mouth\", \"mouth\", \"moving\", \"na\", \"na\", \"na\", \"need\", \"need\", \"need\", \"never\", \"never\", \"never\", \"new\", \"new\", \"new\", \"nicca\", \"nicca\", \"nicca\", \"niccas\", \"niccas\", \"niccas\", \"nigga\", \"nigga\", \"nigga\", \"nip\", \"nip\", \"nip\", \"noticed\", \"nowadays\", \"okay\", \"okay\", \"okay\", \"old\", \"old\", \"old\", \"one\", \"one\", \"one\", \"online\", \"online\", \"paper\", \"paper\", \"paper\", \"party\", \"party\", \"party\", \"pattism\", \"peace\", \"people\", \"people\", \"people\", \"person\", \"person\", \"person\", \"pierced\", \"pimp\", \"planet\", \"planet\", \"planet\", \"play\", \"play\", \"play\", \"punch\", \"pussy\", \"pussy\", \"pussy\", \"queer\", \"queer\", \"queer\", \"ram\", \"real\", \"real\", \"real\", \"reality\", \"really\", \"really\", \"really\", \"relationship\", \"relationship\", \"relationship\", \"retarded\", \"retarded\", \"retarded\", \"right\", \"right\", \"right\", \"rt\", \"rt\", \"rt\", \"said\", \"said\", \"said\", \"sayin\", \"scary\", \"school\", \"school\", \"school\", \"scream\", \"scream\", \"season\", \"season\", \"season\", \"sell\", \"sell\", \"sell\", \"sheen\", \"shit\", \"shit\", \"shit\", \"shower\", \"single\", \"single\", \"slow\", \"slow\", \"slow\", \"smoking\", \"smoking\", \"sol\", \"sol\", \"sol\", \"somebody\", \"somebody\", \"somebody\", \"soul\", \"soul\", \"soul\", \"sox\", \"stacydmomof\", \"stadium\", \"star\", \"starburst\", \"stinky\", \"strap\", \"string\", \"stunt\", \"stupid\", \"stupid\", \"stupid\", \"surprised\", \"take\", \"take\", \"take\", \"taught\", \"taught\", \"test\", \"test\", \"test\", \"three\", \"three\", \"three\", \"time\", \"time\", \"time\", \"timeline\", \"today\", \"today\", \"today\", \"tom\", \"tom\", \"total\", \"trash\", \"trash\", \"trash\", \"trust\", \"trust\", \"trust\", \"turn\", \"turn\", \"turn\", \"twat\", \"twat\", \"twat\", \"tyga\", \"type\", \"type\", \"type\", \"u\", \"u\", \"u\", \"ugly\", \"ugly\", \"ugly\", \"ur\", \"ur\", \"ur\", \"video\", \"video\", \"video\", \"wan\", \"wan\", \"wan\", \"want\", \"want\", \"want\", \"war\", \"war\", \"war\", \"weather\", \"weather\", \"white\", \"white\", \"white\", \"whore\", \"whore\", \"whore\", \"wild\", \"wild\", \"wild\", \"win\", \"win\", \"win\", \"window\", \"wit\", \"wit\", \"wit\", \"worm\", \"worry\", \"worst\", \"worst\", \"worth\", \"worth\", \"worth\", \"ya\", \"ya\", \"ya\", \"yankee\", \"yankee\", \"yankee\", \"year\", \"year\", \"year\", \"yo\", \"yo\", \"yo\", \"york\", \"york\"]}, \"R\": 30, \"lambda.step\": 0.01, \"plot.opts\": {\"xlab\": \"PC1\", \"ylab\": \"PC2\"}, \"topic.order\": [1, 3, 2]};\n",
              "\n",
              "function LDAvis_load_lib(url, callback){\n",
              "  var s = document.createElement('script');\n",
              "  s.src = url;\n",
              "  s.async = true;\n",
              "  s.onreadystatechange = s.onload = callback;\n",
              "  s.onerror = function(){console.warn(\"failed to load library \" + url);};\n",
              "  document.getElementsByTagName(\"head\")[0].appendChild(s);\n",
              "}\n",
              "\n",
              "if(typeof(LDAvis) !== \"undefined\"){\n",
              "   // already loaded: just create the visualization\n",
              "   !function(LDAvis){\n",
              "       new LDAvis(\"#\" + \"ldavis_el147133846767491936624926794\", ldavis_el147133846767491936624926794_data);\n",
              "   }(LDAvis);\n",
              "}else if(typeof define === \"function\" && define.amd){\n",
              "   // require.js is available: use it to load d3/LDAvis\n",
              "   require.config({paths: {d3: \"https://d3js.org/d3.v5\"}});\n",
              "   require([\"d3\"], function(d3){\n",
              "      window.d3 = d3;\n",
              "      LDAvis_load_lib(\"https://cdn.jsdelivr.net/gh/bmabey/pyLDAvis@3.4.0/pyLDAvis/js/ldavis.v3.0.0.js\", function(){\n",
              "        new LDAvis(\"#\" + \"ldavis_el147133846767491936624926794\", ldavis_el147133846767491936624926794_data);\n",
              "      });\n",
              "    });\n",
              "}else{\n",
              "    // require.js not available: dynamically load d3 & LDAvis\n",
              "    LDAvis_load_lib(\"https://d3js.org/d3.v5.js\", function(){\n",
              "         LDAvis_load_lib(\"https://cdn.jsdelivr.net/gh/bmabey/pyLDAvis@3.4.0/pyLDAvis/js/ldavis.v3.0.0.js\", function(){\n",
              "                 new LDAvis(\"#\" + \"ldavis_el147133846767491936624926794\", ldavis_el147133846767491936624926794_data);\n",
              "            })\n",
              "         });\n",
              "}\n",
              "</script>"
            ],
            "text/plain": [
              "<IPython.core.display.HTML object>"
            ]
          },
          "execution_count": 110,
          "metadata": {},
          "output_type": "execute_result"
        }
      ],
      "source": [
        "from pprint import pprint\n",
        "import gensim\n",
        "import pyLDAvis.gensim_models as gensimvis\n",
        "import pyLDAvis\n",
        "from IPython.display import display\n",
        "\n",
        "#Prepare the visualization\n",
        "LDAvis_prepared = gensimvis.prepare(lda_model, HST_corpus, HST_token)\n",
        "\n",
        "#Display visualization\n",
        "pyLDAvis.display(LDAvis_prepared)\n"
      ]
    },
    {
      "cell_type": "markdown",
      "metadata": {
        "id": "qXl-tY3rY7Xt"
      },
      "source": [
        "## Interpret results using Preplexity:\n",
        "**`.log_perplexity`**"
      ]
    },
    {
      "cell_type": "code",
      "execution_count": null,
      "metadata": {
        "colab": {
          "base_uri": "https://localhost:8080/"
        },
        "id": "ltkMBOwpnsKK",
        "outputId": "130747a5-50fa-41bb-d224-7b86ddab4866"
      },
      "outputs": [
        {
          "name": "stderr",
          "output_type": "stream",
          "text": [
            "/usr/local/lib/python3.10/dist-packages/ipykernel/ipkernel.py:283: DeprecationWarning: `should_run_async` will not call `transform_cell` automatically in the future. Please pass the result to `transformed_cell` argument and any exception that happen during thetransform in `preprocessing_exc_tuple` in IPython 7.17 and above.\n",
            "  and should_run_async(code)\n"
          ]
        },
        {
          "name": "stdout",
          "output_type": "stream",
          "text": [
            "Perplexity:  -7.921707260264309\n"
          ]
        }
      ],
      "source": [
        "# Calculate perplexity [4]\n",
        "print('Perplexity: ', lda_model.log_perplexity(HST_corpus))  #a measure of how well the model predicts new data\n"
      ]
    },
    {
      "cell_type": "markdown",
      "metadata": {
        "id": "mLIAIeZU117K"
      },
      "source": [
        "##Bibliography:\n",
        "\n",
        "[1] Shashank Kapadia, “Topic Modeling in Python: Latent Dirichlet Allocation (LDA),” Medium, Apr. 15, 2019. [Online]. Available: [https://towardsdatascience.com/end-to-end-topic-modeling-in-python-latent-dirichlet-allocation-lda-35ce4ed6b3e0](https://towardsdatascience.com/end-to-end-topic-modeling-in-python-latent-dirichlet-allocation-lda-35ce4ed6b3e0) [Accessed Apr. 13, 2024].\n",
        "\n",
        "[2] N. Seth, “Topic Modeling and Latent Dirichlet Allocation (LDA) using Gensim,” Analytics Vidhya, Jun. 28, 2021. [Online]. Available: [https://www.analyticsvidhya.com/blog/2021/06/part-2-topic-modeling-and-latent-dirichlet-allocation-lda-using-gensim-and-sklearn/](https://www.analyticsvidhya.com/blog/2021/06/part-2-topic-modeling-and-latent-dirichlet-allocation-lda-using-gensim-and-sklearn/) [Accessed Apr. 13, 2024].\n",
        "\n",
        "[3] Kapadias, “medium-articles/natural-language-processing/topic-modeling/Introduction to Topic Modeling.ipynb at master · kapadias/medium-articles,” GitHub, 2019. [Online]. Available: [https://github.com/kapadias/medium-articles/blob/master/natural-language-processing/topic-modeling/Introduction%20to%20Topic%20Modeling.ipynb](https://github.com/kapadias/medium-articles/blob/master/natural-language-processing/topic-modeling/Introduction%20to%20Topic%20Modeling.ipynb) [Accessed Apr. 13, 2024].\n",
        "\n",
        "[4] “gensim.models.LdaModel.log_perplexity,” tedboy.github.io. [Online]. Available: [https://tedboy.github.io/nlps/generated/generated/gensim.models.LdaModel.log_perplexity.html](https://tedboy.github.io/nlps/generated/generated/gensim.models.LdaModel.log_perplexity.html) [Accessed Apr. 13, 2024].\n",
        "\n",
        "[5] “Python math.exp() Method,” www.w3schools.com. [Online]. Available: [https://www.w3schools.com/python/ref_math_exp.asp](https://www.w3schools.com/python/ref_math_exp.asp) [Accessed Apr. 13, 2024]."
      ]
    }
  ],
  "metadata": {
    "colab": {
      "provenance": []
    },
    "kernelspec": {
      "display_name": "Python 3",
      "name": "python3"
    },
    "language_info": {
      "name": "python"
    }
  },
  "nbformat": 4,
  "nbformat_minor": 0
}